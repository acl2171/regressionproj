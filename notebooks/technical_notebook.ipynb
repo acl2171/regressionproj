{
 "cells": [
  {
   "cell_type": "markdown",
   "metadata": {},
   "source": [
    "## Predictors of Domestic Violence in Washington, D.C."
   ]
  },
  {
   "cell_type": "markdown",
   "metadata": {},
   "source": [
    "Contributors: Seoho Hahm, Allison Lee"
   ]
  },
  {
   "cell_type": "markdown",
   "metadata": {},
   "source": [
    "### Table of Contents\n",
    "1. <a href='#prob'>Problem Statement\n",
    "2. <a href='#sources'>Data Sources</a>\n",
    "3. <a href='#approach'>Approach</a>\n",
    "4. <a href='#eda'>Exploratory Data Analysis</a>\n",
    "5. <a href='#feature'>Feature Selection</a>\n",
    "6. <a href='#reg'>Regression</a>\n",
    "7. <a href='#analysis'>Findings and Analysis</a>\n",
    "8. <a href='#concl'>Conclusions and Recommendations</a>"
   ]
  },
  {
   "cell_type": "code",
   "execution_count": 43,
   "metadata": {},
   "outputs": [],
   "source": [
    "# import libraries\n",
    "import pandas as pd\n",
    "import numpy as np\n",
    "import matplotlib.pyplot as plt\n",
    "from sklearn.linear_model import LinearRegression\n",
    "import statsmodels.api as sm\n",
    "import statsmodels.stats.api as sms\n",
    "from statsmodels.formula.api import ols\n",
    "import scipy.stats as stats\n",
    "import seaborn as sns\n",
    "from sklearn.linear_model import Lasso, LogisticRegression\n",
    "from sklearn.preprocessing import StandardScaler\n",
    "from sklearn.metrics import mean_squared_error, r2_score\n",
    "from sklearn.feature_selection import RFE\n",
    "import sklearn\n",
    "import statsmodels.stats.outliers_influence as smd\n",
    "%run ../pyfiles/data_cleaning\n",
    "%run ../pyfiles/regression"
   ]
  },
  {
   "cell_type": "markdown",
   "metadata": {},
   "source": [
    "<a id='prob'></a>\n",
    "### Problem Statement"
   ]
  },
  {
   "cell_type": "markdown",
   "metadata": {},
   "source": [
    "This analysis seeks to understand which factors are most efficient in predicting domestic violence in cities such as Washington, D.C. \n",
    "\n",
    "Specifically, we look at the strength and contribution of different variables to incidents of domestic violence in Washington, D.C., and the potential interactions between variables. "
   ]
  },
  {
   "cell_type": "markdown",
   "metadata": {},
   "source": [
    "<a id='sources'></a>\n",
    "### Data Sources"
   ]
  },
  {
   "cell_type": "markdown",
   "metadata": {},
   "source": [
    "We use a dataset of 101 features and 431 observations from a study conducted by Caterina Goman from the Urban Institute, \"Alcohol Availability, Type of Alcohol Establishment, Distribution Policies, and Their Relationship to Crime and Disorder in the District of Columbia, 2000-2006\". Each observation represents a block in Washington, D.C. \n",
    "\n",
    "The original dataset is available here: https://www.icpsr.umich.edu/icpsrweb/NACJD/studies/25763/summary"
   ]
  },
  {
   "cell_type": "markdown",
   "metadata": {},
   "source": [
    "<a id='approach'></a>\n",
    "### Approach"
   ]
  },
  {
   "cell_type": "markdown",
   "metadata": {},
   "source": [
    "We take a more statistical approach to this analysis to understand which factors are most efficient at predicting incidents of domestic violence in Washington, D.C. All of our features are continuous. \n",
    "\n",
    "We used Cook's D to assess leverage and outliers in our variables. \n",
    "\n",
    "We used three different methods for feature selection--recursive feature elimination, domain knowledge / forward selection, and Lasso regression. We ran models on the resulting features and compared model metrics. We selected our final model based on adjusted R squared metric. \n",
    "\n",
    "We then checked the residual plots to ensure they met our assumptions of normal distribution and homoscedasticity. \n",
    "\n",
    "Finally, we present our main findings and recommendations. "
   ]
  },
  {
   "cell_type": "markdown",
   "metadata": {},
   "source": [
    "<a id='eda'></a>\n",
    "### Exploratory Data Analysis"
   ]
  },
  {
   "cell_type": "code",
   "execution_count": 3,
   "metadata": {},
   "outputs": [],
   "source": [
    "df_orig = pd.read_csv('../data/data.tsv', sep = '\\t')\n",
    "df = clean_orig_dataset(df_orig)\n",
    "y = df['AVGDV']\n",
    "x = pd.read_csv('../data/final.csv')\n",
    "x.drop('Unnamed: 0', axis = 1, inplace = True)\n",
    "final_df = x.merge(y, how = 'inner', left_index = True, right_index = True)"
   ]
  },
  {
   "cell_type": "markdown",
   "metadata": {},
   "source": [
    "<a id='feature'></a>\n",
    "### Feature Selection"
   ]
  },
  {
   "cell_type": "markdown",
   "metadata": {},
   "source": [
    "As a first step, we removed redundant and irrelevant features."
   ]
  },
  {
   "cell_type": "markdown",
   "metadata": {},
   "source": [
    "One of the key **assumptions** of linear regression is that there is a lienar relationship between the predictor variable and the dependent variable. In the analysis notebook, we tested this assumption with the remaining variables. We had a final subset of six predictor variables."
   ]
  },
  {
   "cell_type": "markdown",
   "metadata": {},
   "source": [
    "We then used Cook's D to identify variables that have outliers with high influence over our regression results. We eliminated those outliers from our dataset (i.e. dropped the rows with outlier data). "
   ]
  },
  {
   "cell_type": "code",
   "execution_count": 4,
   "metadata": {},
   "outputs": [],
   "source": [
    "cooksddf = cooksd(final_df, list(final_df.columns))\n",
    "fin = dropping_outliers(list(final_df.columns), final_df, cooksddf)"
   ]
  },
  {
   "cell_type": "markdown",
   "metadata": {},
   "source": [
    "We scaled the features in order to properly input them into our models. "
   ]
  },
  {
   "cell_type": "code",
   "execution_count": 5,
   "metadata": {},
   "outputs": [],
   "source": [
    "# Scale features\n",
    "X = scale_dataset(fin.drop('AVGDV', axis = 1))\n",
    "y = fin.AVGDV"
   ]
  },
  {
   "cell_type": "markdown",
   "metadata": {},
   "source": [
    "**Recursive Feature Elimination**\n",
    "\n",
    "First, we tried recursive feature elimination. In our case, recursive feature elimination works by recursively selecting smaller and smaller sets of features. The importance of each feature is obtained through the linear regression coefficient attribute (we scaled the features before inputting them in the rfe model). After initially training on the original set of features, the rfe \"prunes\" the least important features and repeats this process until the desired number of features is reached. "
   ]
  },
  {
   "cell_type": "code",
   "execution_count": 6,
   "metadata": {},
   "outputs": [],
   "source": [
    "rfe_df = recursive_feature_elimination(X, y, 4)"
   ]
  },
  {
   "cell_type": "code",
   "execution_count": 7,
   "metadata": {},
   "outputs": [
    {
     "data": {
      "text/html": [
       "<div>\n",
       "<style scoped>\n",
       "    .dataframe tbody tr th:only-of-type {\n",
       "        vertical-align: middle;\n",
       "    }\n",
       "\n",
       "    .dataframe tbody tr th {\n",
       "        vertical-align: top;\n",
       "    }\n",
       "\n",
       "    .dataframe thead th {\n",
       "        text-align: right;\n",
       "    }\n",
       "</style>\n",
       "<table border=\"1\" class=\"dataframe\">\n",
       "  <thead>\n",
       "    <tr style=\"text-align: right;\">\n",
       "      <th></th>\n",
       "      <th>UNEMPL</th>\n",
       "      <th>POV</th>\n",
       "      <th>CONCDIS</th>\n",
       "      <th>PHYSDIS0506</th>\n",
       "    </tr>\n",
       "  </thead>\n",
       "  <tbody>\n",
       "    <tr>\n",
       "      <td>UNEMPL</td>\n",
       "      <td>True</td>\n",
       "      <td>False</td>\n",
       "      <td>True</td>\n",
       "      <td>False</td>\n",
       "    </tr>\n",
       "    <tr>\n",
       "      <td>POV</td>\n",
       "      <td>False</td>\n",
       "      <td>True</td>\n",
       "      <td>True</td>\n",
       "      <td>False</td>\n",
       "    </tr>\n",
       "    <tr>\n",
       "      <td>CONCDIS</td>\n",
       "      <td>True</td>\n",
       "      <td>True</td>\n",
       "      <td>True</td>\n",
       "      <td>False</td>\n",
       "    </tr>\n",
       "    <tr>\n",
       "      <td>PHYSDIS0506</td>\n",
       "      <td>False</td>\n",
       "      <td>False</td>\n",
       "      <td>False</td>\n",
       "      <td>True</td>\n",
       "    </tr>\n",
       "  </tbody>\n",
       "</table>\n",
       "</div>"
      ],
      "text/plain": [
       "             UNEMPL    POV  CONCDIS  PHYSDIS0506\n",
       "UNEMPL         True  False     True        False\n",
       "POV           False   True     True        False\n",
       "CONCDIS        True   True     True        False\n",
       "PHYSDIS0506   False  False    False         True"
      ]
     },
     "execution_count": 7,
     "metadata": {},
     "output_type": "execute_result"
    }
   ],
   "source": [
    "rfe_df.corr() > 0.7"
   ]
  },
  {
   "cell_type": "code",
   "execution_count": 8,
   "metadata": {},
   "outputs": [],
   "source": [
    "# Drop CONCDIS due to multicollinearity\n",
    "rfe_df.drop('CONCDIS', axis = 1, inplace = True)"
   ]
  },
  {
   "cell_type": "markdown",
   "metadata": {},
   "source": [
    "**Lasso Regression**"
   ]
  },
  {
   "cell_type": "markdown",
   "metadata": {},
   "source": [
    "After standardizing our features, we select a subset of features using Lasso Regression (an embedded method). We tried this approach because we are interested in the importance of the features, and there is a high degree of multicollinearity within our features given the size of our dataset. "
   ]
  },
  {
   "cell_type": "code",
   "execution_count": 9,
   "metadata": {},
   "outputs": [],
   "source": [
    "lasso_df = run_lasso(final_df, X, y)"
   ]
  },
  {
   "cell_type": "code",
   "execution_count": 10,
   "metadata": {},
   "outputs": [
    {
     "data": {
      "text/html": [
       "<div>\n",
       "<style scoped>\n",
       "    .dataframe tbody tr th:only-of-type {\n",
       "        vertical-align: middle;\n",
       "    }\n",
       "\n",
       "    .dataframe tbody tr th {\n",
       "        vertical-align: top;\n",
       "    }\n",
       "\n",
       "    .dataframe thead th {\n",
       "        text-align: right;\n",
       "    }\n",
       "</style>\n",
       "<table border=\"1\" class=\"dataframe\">\n",
       "  <thead>\n",
       "    <tr style=\"text-align: right;\">\n",
       "      <th></th>\n",
       "      <th>POV</th>\n",
       "      <th>YOUNGPOP</th>\n",
       "      <th>CONCDIS</th>\n",
       "      <th>PHYSDIS0506</th>\n",
       "    </tr>\n",
       "  </thead>\n",
       "  <tbody>\n",
       "    <tr>\n",
       "      <td>POV</td>\n",
       "      <td>True</td>\n",
       "      <td>False</td>\n",
       "      <td>True</td>\n",
       "      <td>False</td>\n",
       "    </tr>\n",
       "    <tr>\n",
       "      <td>YOUNGPOP</td>\n",
       "      <td>False</td>\n",
       "      <td>True</td>\n",
       "      <td>True</td>\n",
       "      <td>False</td>\n",
       "    </tr>\n",
       "    <tr>\n",
       "      <td>CONCDIS</td>\n",
       "      <td>True</td>\n",
       "      <td>True</td>\n",
       "      <td>True</td>\n",
       "      <td>False</td>\n",
       "    </tr>\n",
       "    <tr>\n",
       "      <td>PHYSDIS0506</td>\n",
       "      <td>False</td>\n",
       "      <td>False</td>\n",
       "      <td>False</td>\n",
       "      <td>True</td>\n",
       "    </tr>\n",
       "  </tbody>\n",
       "</table>\n",
       "</div>"
      ],
      "text/plain": [
       "               POV  YOUNGPOP  CONCDIS  PHYSDIS0506\n",
       "POV           True     False     True        False\n",
       "YOUNGPOP     False      True     True        False\n",
       "CONCDIS       True      True     True        False\n",
       "PHYSDIS0506  False     False    False         True"
      ]
     },
     "execution_count": 10,
     "metadata": {},
     "output_type": "execute_result"
    }
   ],
   "source": [
    "lasso_df.corr() > 0.7"
   ]
  },
  {
   "cell_type": "code",
   "execution_count": 11,
   "metadata": {},
   "outputs": [],
   "source": [
    "# Drop due to multicollinearity\n",
    "lasso_df.drop('CONCDIS', axis = 1, inplace = True)"
   ]
  },
  {
   "cell_type": "markdown",
   "metadata": {},
   "source": [
    "We therefore further removed variables due to multicollinearity. "
   ]
  },
  {
   "cell_type": "markdown",
   "metadata": {},
   "source": [
    "**Forward Selection**\n",
    "\n",
    "In this method, we started with no variables in the model, added variables one-by-one until we reached a limit where one became insignificant. "
   ]
  },
  {
   "cell_type": "code",
   "execution_count": 12,
   "metadata": {},
   "outputs": [
    {
     "data": {
      "text/html": [
       "<div>\n",
       "<style scoped>\n",
       "    .dataframe tbody tr th:only-of-type {\n",
       "        vertical-align: middle;\n",
       "    }\n",
       "\n",
       "    .dataframe tbody tr th {\n",
       "        vertical-align: top;\n",
       "    }\n",
       "\n",
       "    .dataframe thead th {\n",
       "        text-align: right;\n",
       "    }\n",
       "</style>\n",
       "<table border=\"1\" class=\"dataframe\">\n",
       "  <thead>\n",
       "    <tr style=\"text-align: right;\">\n",
       "      <th></th>\n",
       "      <th>VACANTPERCENT</th>\n",
       "      <th>UNEMPL</th>\n",
       "      <th>POV</th>\n",
       "      <th>YOUNGPOP</th>\n",
       "      <th>CONCDIS</th>\n",
       "      <th>PHYSDIS0506</th>\n",
       "      <th>AVGDV</th>\n",
       "    </tr>\n",
       "  </thead>\n",
       "  <tbody>\n",
       "    <tr>\n",
       "      <td>VACANTPERCENT</td>\n",
       "      <td>1.000000</td>\n",
       "      <td>0.405948</td>\n",
       "      <td>0.427032</td>\n",
       "      <td>0.275703</td>\n",
       "      <td>0.450440</td>\n",
       "      <td>-0.113126</td>\n",
       "      <td>0.278359</td>\n",
       "    </tr>\n",
       "    <tr>\n",
       "      <td>UNEMPL</td>\n",
       "      <td>0.405948</td>\n",
       "      <td>1.000000</td>\n",
       "      <td>0.655008</td>\n",
       "      <td>0.363905</td>\n",
       "      <td>0.689410</td>\n",
       "      <td>-0.042425</td>\n",
       "      <td>0.338285</td>\n",
       "    </tr>\n",
       "    <tr>\n",
       "      <td>POV</td>\n",
       "      <td>0.427032</td>\n",
       "      <td>0.655008</td>\n",
       "      <td>1.000000</td>\n",
       "      <td>0.483592</td>\n",
       "      <td>0.804391</td>\n",
       "      <td>-0.027743</td>\n",
       "      <td>0.519654</td>\n",
       "    </tr>\n",
       "    <tr>\n",
       "      <td>YOUNGPOP</td>\n",
       "      <td>0.275703</td>\n",
       "      <td>0.363905</td>\n",
       "      <td>0.483592</td>\n",
       "      <td>1.000000</td>\n",
       "      <td>0.747349</td>\n",
       "      <td>0.257578</td>\n",
       "      <td>0.589011</td>\n",
       "    </tr>\n",
       "    <tr>\n",
       "      <td>CONCDIS</td>\n",
       "      <td>0.450440</td>\n",
       "      <td>0.689410</td>\n",
       "      <td>0.804391</td>\n",
       "      <td>0.747349</td>\n",
       "      <td>1.000000</td>\n",
       "      <td>0.092406</td>\n",
       "      <td>0.653725</td>\n",
       "    </tr>\n",
       "    <tr>\n",
       "      <td>PHYSDIS0506</td>\n",
       "      <td>-0.113126</td>\n",
       "      <td>-0.042425</td>\n",
       "      <td>-0.027743</td>\n",
       "      <td>0.257578</td>\n",
       "      <td>0.092406</td>\n",
       "      <td>1.000000</td>\n",
       "      <td>0.323959</td>\n",
       "    </tr>\n",
       "    <tr>\n",
       "      <td>AVGDV</td>\n",
       "      <td>0.278359</td>\n",
       "      <td>0.338285</td>\n",
       "      <td>0.519654</td>\n",
       "      <td>0.589011</td>\n",
       "      <td>0.653725</td>\n",
       "      <td>0.323959</td>\n",
       "      <td>1.000000</td>\n",
       "    </tr>\n",
       "  </tbody>\n",
       "</table>\n",
       "</div>"
      ],
      "text/plain": [
       "               VACANTPERCENT    UNEMPL       POV  YOUNGPOP   CONCDIS  \\\n",
       "VACANTPERCENT       1.000000  0.405948  0.427032  0.275703  0.450440   \n",
       "UNEMPL              0.405948  1.000000  0.655008  0.363905  0.689410   \n",
       "POV                 0.427032  0.655008  1.000000  0.483592  0.804391   \n",
       "YOUNGPOP            0.275703  0.363905  0.483592  1.000000  0.747349   \n",
       "CONCDIS             0.450440  0.689410  0.804391  0.747349  1.000000   \n",
       "PHYSDIS0506        -0.113126 -0.042425 -0.027743  0.257578  0.092406   \n",
       "AVGDV               0.278359  0.338285  0.519654  0.589011  0.653725   \n",
       "\n",
       "               PHYSDIS0506     AVGDV  \n",
       "VACANTPERCENT    -0.113126  0.278359  \n",
       "UNEMPL           -0.042425  0.338285  \n",
       "POV              -0.027743  0.519654  \n",
       "YOUNGPOP          0.257578  0.589011  \n",
       "CONCDIS           0.092406  0.653725  \n",
       "PHYSDIS0506       1.000000  0.323959  \n",
       "AVGDV             0.323959  1.000000  "
      ]
     },
     "execution_count": 12,
     "metadata": {},
     "output_type": "execute_result"
    }
   ],
   "source": [
    "final_df.corr()"
   ]
  },
  {
   "cell_type": "code",
   "execution_count": 13,
   "metadata": {},
   "outputs": [
    {
     "data": {
      "text/plain": [
       "<statsmodels.regression.linear_model.RegressionResultsWrapper at 0x25f94e8c808>"
      ]
     },
     "execution_count": 13,
     "metadata": {},
     "output_type": "execute_result"
    }
   ],
   "source": [
    "x_forward = np.array(X.loc[:,['YOUNGPOP', 'POV']])\n",
    "run_model(x_forward, y)"
   ]
  },
  {
   "cell_type": "markdown",
   "metadata": {},
   "source": [
    "The correlation matrix shows that there are no variables with a correlation coefficient above 0.7."
   ]
  },
  {
   "cell_type": "code",
   "execution_count": 14,
   "metadata": {},
   "outputs": [
    {
     "data": {
      "text/html": [
       "<div>\n",
       "<style scoped>\n",
       "    .dataframe tbody tr th:only-of-type {\n",
       "        vertical-align: middle;\n",
       "    }\n",
       "\n",
       "    .dataframe tbody tr th {\n",
       "        vertical-align: top;\n",
       "    }\n",
       "\n",
       "    .dataframe thead th {\n",
       "        text-align: right;\n",
       "    }\n",
       "</style>\n",
       "<table border=\"1\" class=\"dataframe\">\n",
       "  <thead>\n",
       "    <tr style=\"text-align: right;\">\n",
       "      <th></th>\n",
       "      <th>YOUNGPOP</th>\n",
       "      <th>POV</th>\n",
       "    </tr>\n",
       "  </thead>\n",
       "  <tbody>\n",
       "    <tr>\n",
       "      <td>YOUNGPOP</td>\n",
       "      <td>1.000000</td>\n",
       "      <td>0.504914</td>\n",
       "    </tr>\n",
       "    <tr>\n",
       "      <td>POV</td>\n",
       "      <td>0.504914</td>\n",
       "      <td>1.000000</td>\n",
       "    </tr>\n",
       "  </tbody>\n",
       "</table>\n",
       "</div>"
      ],
      "text/plain": [
       "          YOUNGPOP       POV\n",
       "YOUNGPOP  1.000000  0.504914\n",
       "POV       0.504914  1.000000"
      ]
     },
     "execution_count": 14,
     "metadata": {},
     "output_type": "execute_result"
    }
   ],
   "source": [
    "x_forward = pd.DataFrame(x_forward, columns = ['YOUNGPOP', 'POV'])\n",
    "x_forward.corr()"
   ]
  },
  {
   "cell_type": "markdown",
   "metadata": {},
   "source": [
    "<a id='reg'><a/>\n",
    "### Multiple Linear Regression"
   ]
  },
  {
   "cell_type": "markdown",
   "metadata": {},
   "source": [
    "We employ multiple linear regression with average incidents of domestic violence over 2005 to 2006 as our dependent variable. Multiple linear regression models make the following assumptions:\n",
    " - a linear relationship between the predictor variables and the dependent variable\n",
    " - the residuals are normally distributed\n",
    " - independent variables are not highly correlated with each other\n",
    " - homoscedasticity of the variance of error terms when plotted against independent variables"
   ]
  },
  {
   "cell_type": "markdown",
   "metadata": {},
   "source": [
    "We run three different models using the three outputs of our feature selection methods. "
   ]
  },
  {
   "cell_type": "markdown",
   "metadata": {},
   "source": [
    "We compared the models using the Adjusted R squared metric, which is adjusted for the number of variables in the model. Our findings are summarized below:\n"
   ]
  },
  {
   "cell_type": "code",
   "execution_count": 26,
   "metadata": {},
   "outputs": [],
   "source": [
    "res_ref = run_model(rfe_df, np.array(y).reshape(-1, 1))\n",
    "resid_rfe = res_ref.resid"
   ]
  },
  {
   "cell_type": "code",
   "execution_count": 27,
   "metadata": {},
   "outputs": [],
   "source": [
    "res_lasso = run_model(lasso_df, np.array(y).reshape(-1,1))\n",
    "resid_lasso = res_lasso.resid"
   ]
  },
  {
   "cell_type": "code",
   "execution_count": 29,
   "metadata": {},
   "outputs": [],
   "source": [
    "res_forward = run_model(x_forward, np.array(y).reshape(-1,1))\n",
    "resid_forward = res_forward.resid"
   ]
  },
  {
   "cell_type": "markdown",
   "metadata": {},
   "source": [
    "### Check Assumption: Normal Distribution of Residuals"
   ]
  },
  {
   "cell_type": "markdown",
   "metadata": {},
   "source": [
    "**Recursive Feature Elimination Method**\n",
    "\n",
    "Visually, the first model violates the assumption of a normal distribution of residuals. "
   ]
  },
  {
   "cell_type": "code",
   "execution_count": 30,
   "metadata": {},
   "outputs": [
    {
     "data": {
      "image/png": "[encoded data removed]",
      "text/plain": [
       "<Figure size 432x288 with 1 Axes>"
      ]
     },
     "metadata": {
      "needs_background": "light"
     },
     "output_type": "display_data"
    }
   ],
   "source": [
    "fig = sm.graphics.qqplot(resid_rfe, dist=stats.norm, line='45', fit=True)"
   ]
  },
  {
   "cell_type": "code",
   "execution_count": 33,
   "metadata": {},
   "outputs": [
    {
     "data": {
      "text/plain": [
       "[('Jarque-Bera', 1416.3095098382585),\n",
       " ('Prob', 2.833332903258106e-308),\n",
       " ('Skew', 1.8688783685044463),\n",
       " ('Kurtosis', 11.136193053017985)]"
      ]
     },
     "execution_count": 33,
     "metadata": {},
     "output_type": "execute_result"
    }
   ],
   "source": [
    "name = ['Jarque-Bera','Prob','Skew', 'Kurtosis']\n",
    "test_rfe = sms.jarque_bera(resid_rfe)\n",
    "list(zip(name, test_rfe))"
   ]
  },
  {
   "cell_type": "markdown",
   "metadata": {},
   "source": [
    "The statistical Jarque-Bera test proves that the rfe model's residuals violate the assumption of normality. The JB value is much higher than 6, and the p-value is very low - which suggests we reject the null hypothesis that errors are normally distributed. "
   ]
  },
  {
   "cell_type": "markdown",
   "metadata": {},
   "source": [
    "**Lasso Regression**"
   ]
  },
  {
   "cell_type": "code",
   "execution_count": 35,
   "metadata": {},
   "outputs": [
    {
     "data": {
      "image/png": "[encoded data removed]",
      "text/plain": [
       "<Figure size 432x288 with 1 Axes>"
      ]
     },
     "metadata": {
      "needs_background": "light"
     },
     "output_type": "display_data"
    }
   ],
   "source": [
    "fig = sm.graphics.qqplot(resid_lasso, dist=stats.norm, line='45', fit=True)"
   ]
  },
  {
   "cell_type": "code",
   "execution_count": 36,
   "metadata": {},
   "outputs": [
    {
     "data": {
      "text/plain": [
       "[('Jarque-Bera', 1663.0804369792288),\n",
       " ('Prob', 0.0),\n",
       " ('Skew', 1.9373468232712103),\n",
       " ('Kurtosis', 11.895132244868652)]"
      ]
     },
     "execution_count": 36,
     "metadata": {},
     "output_type": "execute_result"
    }
   ],
   "source": [
    "name = ['Jarque-Bera','Prob','Skew', 'Kurtosis']\n",
    "test_lasso = sms.jarque_bera(resid_lasso)\n",
    "list(zip(name, test_lasso))"
   ]
  },
  {
   "cell_type": "markdown",
   "metadata": {},
   "source": [
    "For the lasso feature selection, the statistical Jarque-Bera test proves that the lasso model's residuals violate the assumption of normality. The JB value is much higher than 6, and the p-value is very low - which suggests we reject the null hypothesis that errors are normally distributed. "
   ]
  },
  {
   "cell_type": "markdown",
   "metadata": {},
   "source": [
    "**Forward Feature Selection**"
   ]
  },
  {
   "cell_type": "code",
   "execution_count": 38,
   "metadata": {},
   "outputs": [
    {
     "data": {
      "image/png": "[encoded data removed]",
      "text/plain": [
       "<Figure size 432x288 with 1 Axes>"
      ]
     },
     "metadata": {
      "needs_background": "light"
     },
     "output_type": "display_data"
    }
   ],
   "source": [
    "fig = sm.graphics.qqplot(resid_forward, dist=stats.norm, line='45', fit=True)"
   ]
  },
  {
   "cell_type": "code",
   "execution_count": 39,
   "metadata": {},
   "outputs": [
    {
     "data": {
      "text/plain": [
       "[('Jarque-Bera', 1863.8551883135606),\n",
       " ('Prob', 0.0),\n",
       " ('Skew', 1.960072926250888),\n",
       " ('Kurtosis', 12.493876635466968)]"
      ]
     },
     "execution_count": 39,
     "metadata": {},
     "output_type": "execute_result"
    }
   ],
   "source": [
    "name = ['Jarque-Bera','Prob','Skew', 'Kurtosis']\n",
    "test_forward = sms.jarque_bera(resid_forward)\n",
    "list(zip(name, test_forward))"
   ]
  },
  {
   "cell_type": "markdown",
   "metadata": {},
   "source": [
    "For the forward feature selection, the statistical Jarque-Bera test proves that the forward model's residuals violate the assumption of normality. The JB value is much higher than 6, and the p-value is very low - which suggests we reject the null hypothesis that errors are normally distributed. "
   ]
  },
  {
   "cell_type": "markdown",
   "metadata": {},
   "source": [
    "### Check Assumption: Homoscedasticity"
   ]
  },
  {
   "cell_type": "code",
   "execution_count": null,
   "metadata": {},
   "outputs": [],
   "source": []
  },
  {
   "cell_type": "markdown",
   "metadata": {},
   "source": [
    "### Findings and Analysis"
   ]
  },
  {
   "cell_type": "markdown",
   "metadata": {},
   "source": [
    "Findings:\n",
    "\n",
    " - All of our regression models had adjusted R squared values around 0.4, indicating that our predictor variables weakly predicted incidents of domestic violence. There may be other features that were not included in our dataset that have more predictive power. \n",
    " - However, all of our models violated the assumption that the residuals are normally distributed\n",
    "\n"
   ]
  },
  {
   "cell_type": "code",
   "execution_count": null,
   "metadata": {},
   "outputs": [],
   "source": []
  }
 ],
 "metadata": {
  "kernelspec": {
   "display_name": "base",
   "language": "python",
   "name": "base"
  },
  "language_info": {
   "codemirror_mode": {
    "name": "ipython",
    "version": 3
   },
   "file_extension": ".py",
   "mimetype": "text/x-python",
   "name": "python",
   "nbconvert_exporter": "python",
   "pygments_lexer": "ipython3",
   "version": "3.7.4"
  }
 },
 "nbformat": 4,
 "nbformat_minor": 4
}
