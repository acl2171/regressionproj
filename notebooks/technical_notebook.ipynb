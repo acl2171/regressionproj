{
 "cells": [
  {
   "cell_type": "markdown",
   "metadata": {},
   "source": [
    "## Predictors of Domestic Violence in Washington, D.C."
   ]
  },
  {
   "cell_type": "markdown",
   "metadata": {},
   "source": [
    "Contributors: Seoho Hahm, Allison Lee"
   ]
  },
  {
   "cell_type": "markdown",
   "metadata": {},
   "source": [
    "### Table of Contents\n",
    "1. <a href='#prob'>Problem Statement\n",
    "2. <a href='#sources'>Data Sources</a>\n",
    "3. <a href='#approach'>Approach</a>\n",
    "4. <a href='#eda'>Exploratory Data Analysis</a>\n",
    "5. <a href='#feature'>Feature Selection</a>\n",
    "6. <a href='#reg'>Regression</a>\n",
    "7. <a href='#analysis'>Findings and Analysis</a>\n",
    "8. <a href='#concl'>Conclusions and Recommendations</a>"
   ]
  },
  {
   "cell_type": "code",
   "execution_count": 70,
   "metadata": {},
   "outputs": [],
   "source": [
    "# import libraries\n",
    "import pandas as pd\n",
    "import numpy as np\n",
    "from sklearn.linear_model import LinearRegression\n",
    "import statsmodels.api as sm\n",
    "import seaborn as sns\n",
    "from sklearn.linear_model import Lasso, LogisticRegression\n",
    "from sklearn.preprocessing import StandardScaler\n",
    "from sklearn.metrics import mean_squared_error, r2_score\n",
    "from sklearn.feature_selection import RFE\n",
    "%run ../pyfiles/data_cleaning\n",
    "%run ../pyfiles/regression"
   ]
  },
  {
   "cell_type": "markdown",
   "metadata": {},
   "source": [
    "<a id='prob'></a>\n",
    "### Problem Statement"
   ]
  },
  {
   "cell_type": "markdown",
   "metadata": {},
   "source": [
    "This analysis seeks to understand which factors are most efficient in predicting domestic violence in cities such as Washington, D.C. \n",
    "\n",
    "Specifically, we look at the strength and contribution of different variables to incidents of domestic violence in Washington, D.C., and the potential interactions between variables. "
   ]
  },
  {
   "cell_type": "markdown",
   "metadata": {},
   "source": [
    "<a id='sources'></a>\n",
    "### Data Sources"
   ]
  },
  {
   "cell_type": "markdown",
   "metadata": {},
   "source": [
    "We use a dataset of 101 features and 431 observations from a study conducted by Caterina Goman from the Urban Institute, \"Alcohol Availability, Type of Alcohol Establishment, Distribution Policies, and Their Relationship to Crime and Disorder in the District of Columbia, 2000-2006\". Each observation represents a block in Washington, D.C. \n",
    "\n",
    "The original dataset is available here: https://www.icpsr.umich.edu/icpsrweb/NACJD/studies/25763/summary"
   ]
  },
  {
   "cell_type": "markdown",
   "metadata": {},
   "source": [
    "<a id='approach'></a>\n",
    "### Approach"
   ]
  },
  {
   "cell_type": "markdown",
   "metadata": {},
   "source": [
    "We take a more statistical approach to this analysis to understand which factors are most efficient at predicting incidents of domestic violence in Washington, D.C. All of our features are continuous. \n",
    "\n",
    "We used Cook's D to assess leverage and outliers in our variables. \n",
    "\n",
    "We used three different methods for feature selection--recursive feature elimination, domain knowledge / forward selection, and Lasso regression. We ran models on the resulting features and compared model metrics. We selected our final model based on the metrics of XXXXXX. \n",
    "\n",
    "We then checked the residual plots to ensure they met our assumptions of normal distribution and homoscedasticity. \n",
    "\n",
    "Finally, we present our main findings and recommendations. "
   ]
  },
  {
   "cell_type": "markdown",
   "metadata": {},
   "source": [
    "<a id='eda'></a>\n",
    "### Exploratory Data Analysis"
   ]
  },
  {
   "cell_type": "code",
   "execution_count": 71,
   "metadata": {},
   "outputs": [],
   "source": [
    "df = pd.read_csv('../data/data.tsv', sep = '\\t')\n",
    "df = clean_orig_dataset(df)\n",
    "X = df.drop('AVGDV', axis = 1)\n",
    "y = df['AVGDV']"
   ]
  },
  {
   "cell_type": "markdown",
   "metadata": {},
   "source": [
    "box plots\n",
    "\n",
    "if time:\n",
    "We use Cook's D to understand ...."
   ]
  },
  {
   "cell_type": "markdown",
   "metadata": {},
   "source": [
    "<a id='feature'></a<\n",
    "### Feature Selection"
   ]
  },
  {
   "cell_type": "markdown",
   "metadata": {},
   "source": [
    "As a first step, we removed the features that are directly correlated with our dependent variable (for example, domestic violence incidents on the weekend). We tried three methods of feature selection to come up with a subset of features on which to run a model. "
   ]
  },
  {
   "cell_type": "markdown",
   "metadata": {},
   "source": [
    "**Recursive Feature Elimination**\n",
    "\n",
    "First, we tried recursive feature elimination. In our case, recursive feature elimination works by recursively selecting smaller and smaller sets of features. The importance of each feature is obtained through the linear regression coefficient attribute (we scaled the features before inputting them in the rfe model). After initially training on the original set of features, the rfe \"prunes\" the least important features and repeats this process until the desired number of features is reached. We set our desired number of features as 7 for ease of interpretation. "
   ]
  },
  {
   "cell_type": "code",
   "execution_count": 72,
   "metadata": {},
   "outputs": [],
   "source": [
    "# scale dataframe\n",
    "scaled_df = scale_dataset(X)\n",
    "rfe_df = recursive_feature_elimination(scaled_df, X, y)"
   ]
  },
  {
   "cell_type": "markdown",
   "metadata": {},
   "source": [
    "The model returned the following six features: 'POP2004', 'WHITE', 'BLACK', 'ONPREM_BG', 'AVGMPDDIS', 'AVGADW0001'"
   ]
  },
  {
   "cell_type": "markdown",
   "metadata": {},
   "source": [
    "After checking for multicollinearity, we remove one additional variable (reports of assaults with a deadly weapon) which has a correlation coefficient higher than 0.7 with AVGMPDDIS (reports of disturbance)."
   ]
  },
  {
   "cell_type": "code",
   "execution_count": 73,
   "metadata": {},
   "outputs": [],
   "source": [
    "# drop due to multicollinearity\n",
    "rfe_df.drop('AVGADW0001', axis = 1, inplace = True)"
   ]
  },
  {
   "cell_type": "markdown",
   "metadata": {},
   "source": [
    "**Lasso Regression**"
   ]
  },
  {
   "cell_type": "markdown",
   "metadata": {},
   "source": [
    "After standardizing our features, we select a subset of features using Lasso Regression (an embedded method). We tried this approach because we are interested in the importance of the features, and there is a high degree of multicollinearity within our features given the size of our dataset. "
   ]
  },
  {
   "cell_type": "code",
   "execution_count": 74,
   "metadata": {},
   "outputs": [
    {
     "data": {
      "text/plain": [
       "Index(['VACANTPERCENT', 'BLACK', 'AGE_5_17', 'VACANT', 'FEMALE', 'YOUNGPOP',\n",
       "       'PUBHOUSPT', 'AVGMPDDIS', 'AVGADW0001', 'ADWWEEKEND', 'ADWWEEKNIGHT',\n",
       "       'ARR_0506'],\n",
       "      dtype='object')"
      ]
     },
     "execution_count": 74,
     "metadata": {},
     "output_type": "execute_result"
    }
   ],
   "source": [
    "lasso_df = run_lasso(df, scaled_df, y)\n",
    "lasso_df.columns"
   ]
  },
  {
   "cell_type": "markdown",
   "metadata": {},
   "source": [
    "The Lasso method returned the following twelve variables:'VACANTPERCENT', 'BLACK', 'AGE_5_17', 'VACANT', 'FEMALE', 'YOUNGPOP','PUBHOUSPT', 'AVGMPDDIS', 'AVGADW0001', 'ADWWEEKEND', 'ADWWEEKNIGHT','ARR_0506'.\n",
    "However, there appears to be a high degree of multicollinearity between them, as shown by the visualization below. "
   ]
  },
  {
   "cell_type": "code",
   "execution_count": 75,
   "metadata": {},
   "outputs": [
    {
     "data": {
      "text/plain": [
       "<matplotlib.axes._subplots.AxesSubplot at 0x1bac8a27788>"
      ]
     },
     "execution_count": 75,
     "metadata": {},
     "output_type": "execute_result"
    },
    {
     "data": {
      "image/png": "[encoded data removed]",
      "text/plain": [
       "<Figure size 432x288 with 2 Axes>"
      ]
     },
     "metadata": {
      "needs_background": "light"
     },
     "output_type": "display_data"
    }
   ],
   "source": [
    "sns.heatmap(lasso_df.corr())"
   ]
  },
  {
   "cell_type": "markdown",
   "metadata": {},
   "source": [
    "We therefore further removed variables due to multicollinearity. "
   ]
  },
  {
   "cell_type": "code",
   "execution_count": 76,
   "metadata": {},
   "outputs": [],
   "source": [
    "lasso_final_df = lasso_remove_multicollinearity(lasso_df)"
   ]
  },
  {
   "cell_type": "markdown",
   "metadata": {},
   "source": [
    "**Forward Selection**\n",
    "\n",
    "In this method, we started with all variables in the model, and selected a subset of variables with the lowest p-values. We then added these variables to our model one by one, until we reached a limit where one became insignificant. "
   ]
  },
  {
   "cell_type": "code",
   "execution_count": 77,
   "metadata": {},
   "outputs": [],
   "source": [
    "forward_df = forward_selection(scaled_df)"
   ]
  },
  {
   "cell_type": "markdown",
   "metadata": {},
   "source": [
    "The correlation matrix shows that there are no variables with a correlation coefficient above 0.7."
   ]
  },
  {
   "cell_type": "markdown",
   "metadata": {},
   "source": [
    "<a id='reg'><a/>\n",
    "### Multiple Linear Regression"
   ]
  },
  {
   "cell_type": "markdown",
   "metadata": {},
   "source": [
    "We employ multiple linear regression with average incidents of domestic violence over 2005 to 2006 as our dependent variable. Multiple linear regression models make the following assumptions:\n",
    " - a linear relationship between the predictor variables and the dependent variable\n",
    " - the residuals are normally distributed\n",
    " - independent variables are not highly correlated with each other\n",
    " - homoscedasticity of the variance of error terms when plotted against independent variables"
   ]
  },
  {
   "cell_type": "markdown",
   "metadata": {},
   "source": [
    "We run three different models using the three outputs of our feature selection methods. "
   ]
  },
  {
   "cell_type": "markdown",
   "metadata": {},
   "source": [
    "We compared the models using the Adjusted R squared metric, which is adjusted for the number of variables in the model. Our findings are summarized below:\n",
    " - Recursive elimination feature: 0.860\n",
    " - Lasso regression: 0.866\n",
    " - Forward selection: 0.421\n",
    " \n"
   ]
  },
  {
   "cell_type": "markdown",
   "metadata": {},
   "source": [
    "Recursive elimination feature and lasso regression methods returned similar adjusted R values when those subset of features were run in a multiple regression model. "
   ]
  },
  {
   "cell_type": "markdown",
   "metadata": {},
   "source": [
    "<a id='findings'></a>\n",
    "### Findings"
   ]
  },
  {
   "cell_type": "code",
   "execution_count": 83,
   "metadata": {},
   "outputs": [
    {
     "name": "stdout",
     "output_type": "stream",
     "text": [
      "                                 OLS Regression Results                                \n",
      "=======================================================================================\n",
      "Dep. Variable:                  AVGDV   R-squared (uncentered):                   0.883\n",
      "Model:                            OLS   Adj. R-squared (uncentered):              0.881\n",
      "Method:                 Least Squares   F-statistic:                              534.8\n",
      "Date:                Wed, 04 Dec 2019   Prob (F-statistic):                   1.61e-194\n",
      "Time:                        11:36:10   Log-Likelihood:                         -1701.8\n",
      "No. Observations:                 431   AIC:                                      3416.\n",
      "Df Residuals:                     425   BIC:                                      3440.\n",
      "Df Model:                           6                                                  \n",
      "Covariance Type:            nonrobust                                                  \n",
      "==============================================================================\n",
      "                 coef    std err          t      P>|t|      [0.025      0.975]\n",
      "------------------------------------------------------------------------------\n",
      "POP2004       -0.0219      0.003     -7.509      0.000      -0.028      -0.016\n",
      "WHITE          0.0235      0.004      6.699      0.000       0.017       0.030\n",
      "BLACK          0.0375      0.003     12.456      0.000       0.032       0.043\n",
      "ONPREM_BG     -1.0656      0.124     -8.566      0.000      -1.310      -0.821\n",
      "AVGMPDDIS      0.0530      0.005      9.856      0.000       0.042       0.064\n",
      "ADWWEEKEND     3.8425      0.435      8.836      0.000       2.988       4.697\n",
      "==============================================================================\n",
      "Omnibus:                      141.583   Durbin-Watson:                   1.490\n",
      "Prob(Omnibus):                  0.000   Jarque-Bera (JB):              591.604\n",
      "Skew:                           1.402   Prob(JB):                    3.43e-129\n",
      "Kurtosis:                       8.008   Cond. No.                     1.31e+03\n",
      "==============================================================================\n",
      "\n",
      "Warnings:\n",
      "[1] Standard Errors assume that the covariance matrix of the errors is correctly specified.\n",
      "[2] The condition number is large, 1.31e+03. This might indicate that there are\n",
      "strong multicollinearity or other numerical problems.\n"
     ]
    }
   ],
   "source": [
    "run_model(rfe_df, y)"
   ]
  },
  {
   "cell_type": "code",
   "execution_count": null,
   "metadata": {},
   "outputs": [],
   "source": []
  },
  {
   "cell_type": "markdown",
   "metadata": {},
   "source": [
    "#\n",
    " - Run a couple of models\n",
    " - Look at features and coefficients \n",
    " - Focus on features - which ones are more dominant, how are they interacting. understand importance of features, effects of domestic violence. which are most efficient in predicting dv.\n",
    " - Ratio BG / population\n",
    " - already have some sort of bias if you only chose 6 features. \n",
    " - run a huge model, compare models, look at coefficients p values and f scores. \n",
    " - rsq not super important, but p value, f scores. \n",
    "  - is there a significant different --> statistical realm. Anova test. \n",
    "  - but also use linear regression model\n",
    "  - read paper"
   ]
  },
  {
   "cell_type": "code",
   "execution_count": null,
   "metadata": {},
   "outputs": [],
   "source": []
  },
  {
   "cell_type": "code",
   "execution_count": null,
   "metadata": {},
   "outputs": [],
   "source": []
  }
 ],
 "metadata": {
  "kernelspec": {
   "display_name": "base",
   "language": "python",
   "name": "base"
  },
  "language_info": {
   "codemirror_mode": {
    "name": "ipython",
    "version": 3
   },
   "file_extension": ".py",
   "mimetype": "text/x-python",
   "name": "python",
   "nbconvert_exporter": "python",
   "pygments_lexer": "ipython3",
   "version": "3.7.4"
  }
 },
 "nbformat": 4,
 "nbformat_minor": 4
}
