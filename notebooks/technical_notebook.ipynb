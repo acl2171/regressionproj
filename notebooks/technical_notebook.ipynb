{
 "cells": [
  {
   "cell_type": "markdown",
   "metadata": {},
   "source": [
    "## Predictors of Domestic Violence in Washington, D.C."
   ]
  },
  {
   "cell_type": "markdown",
   "metadata": {},
   "source": [
    "Contributors: Seoho Hahm, Allison Lee"
   ]
  },
  {
   "cell_type": "markdown",
   "metadata": {},
   "source": [
    "### Table of Contents\n",
    "1. <a href='#prob'>Problem Statement\n",
    "2. <a href='#sources'>Data Sources</a>\n",
    "3. <a href='#approach'>Approach</a>\n",
    "4. <a href='#eda'>Exploratory Data Analysis</a>\n",
    "5. <a href='#feature'>Feature Selection</a>\n",
    "6. <a href='#reg'>Regression</a>\n",
    "7. <a href='#analysis'>Findings and Analysis</a>\n",
    "8. <a href='#concl'>Conclusions and Recommendations</a>"
   ]
  },
  {
   "cell_type": "code",
   "execution_count": 1,
   "metadata": {},
   "outputs": [],
   "source": [
    "# import libraries\n",
    "import pandas as pd\n",
    "import numpy as np\n",
    "from sklearn.linear_model import LinearRegression\n",
    "import statsmodels.api as sm\n",
    "import seaborn as sns\n",
    "from sklearn.linear_model import Lasso, LogisticRegression\n",
    "from sklearn.preprocessing import StandardScaler\n",
    "from sklearn.metrics import mean_squared_error, r2_score\n",
    "from sklearn.feature_selection import RFE\n",
    "import sklearn\n",
    "import statsmodels.stats.outliers_influence as smd\n",
    "%run ../pyfiles/data_cleaning\n",
    "%run ../pyfiles/regression"
   ]
  },
  {
   "cell_type": "markdown",
   "metadata": {},
   "source": [
    "<a id='prob'></a>\n",
    "### Problem Statement"
   ]
  },
  {
   "cell_type": "markdown",
   "metadata": {},
   "source": [
    "This analysis seeks to understand which factors are most efficient in predicting domestic violence in cities such as Washington, D.C. \n",
    "\n",
    "Specifically, we look at the strength and contribution of different variables to incidents of domestic violence in Washington, D.C., and the potential interactions between variables. "
   ]
  },
  {
   "cell_type": "markdown",
   "metadata": {},
   "source": [
    "<a id='sources'></a>\n",
    "### Data Sources"
   ]
  },
  {
   "cell_type": "markdown",
   "metadata": {},
   "source": [
    "We use a dataset of 101 features and 431 observations from a study conducted by Caterina Goman from the Urban Institute, \"Alcohol Availability, Type of Alcohol Establishment, Distribution Policies, and Their Relationship to Crime and Disorder in the District of Columbia, 2000-2006\". Each observation represents a block in Washington, D.C. \n",
    "\n",
    "The original dataset is available here: https://www.icpsr.umich.edu/icpsrweb/NACJD/studies/25763/summary"
   ]
  },
  {
   "cell_type": "markdown",
   "metadata": {},
   "source": [
    "<a id='approach'></a>\n",
    "### Approach"
   ]
  },
  {
   "cell_type": "markdown",
   "metadata": {},
   "source": [
    "We take a more statistical approach to this analysis to understand which factors are most efficient at predicting incidents of domestic violence in Washington, D.C. All of our features are continuous. \n",
    "\n",
    "We used Cook's D to assess leverage and outliers in our variables. \n",
    "\n",
    "We used three different methods for feature selection--recursive feature elimination, domain knowledge / forward selection, and Lasso regression. We ran models on the resulting features and compared model metrics. We selected our final model based on adjusted R squared metric. \n",
    "\n",
    "We then checked the residual plots to ensure they met our assumptions of normal distribution and homoscedasticity. \n",
    "\n",
    "Finally, we present our main findings and recommendations. "
   ]
  },
  {
   "cell_type": "markdown",
   "metadata": {},
   "source": [
    "<a id='eda'></a>\n",
    "### Exploratory Data Analysis"
   ]
  },
  {
   "cell_type": "code",
   "execution_count": 2,
   "metadata": {},
   "outputs": [],
   "source": [
    "df_orig = pd.read_csv('../data/data.tsv', sep = '\\t')\n",
    "df = clean_orig_dataset(df_orig)\n",
    "X = df.drop('AVGDV', axis = 1)\n",
    "y = df['AVGDV']"
   ]
  },
  {
   "cell_type": "markdown",
   "metadata": {},
   "source": [
    "There appears to be a high degree of interactions between our variables, which is something to keep in mind throughout our analysis. For example, these scatterplots illustrate how race interacts with poverty in D.C. "
   ]
  },
  {
   "cell_type": "markdown",
   "metadata": {},
   "source": [
    "<a id='feature'></a>\n",
    "### Feature Selection"
   ]
  },
  {
   "cell_type": "markdown",
   "metadata": {},
   "source": [
    "As a first step, we removed the features that are directly correlated with our dependent variable (for example, domestic violence incidents on the weekend). We tried three methods of feature selection to come up with a subset of features on which to run a model. "
   ]
  },
  {
   "cell_type": "markdown",
   "metadata": {},
   "source": [
    "We then used Cook's D to identify variables that have outliers with high influence over our regression results. We eliminated those outliers from our dataset (i.e. dropped the blocks with outlier data). "
   ]
  },
  {
   "cell_type": "code",
   "execution_count": 3,
   "metadata": {},
   "outputs": [],
   "source": [
    "cooksddf = cooksd(df, list(df.columns))\n",
    "cleaned_df = dropping_outliers(list(df.columns), df, cooksddf)"
   ]
  },
  {
   "cell_type": "code",
   "execution_count": 4,
   "metadata": {},
   "outputs": [],
   "source": [
    "# Scale features\n",
    "scaled_df = scale_dataset(cleaned_df)"
   ]
  },
  {
   "cell_type": "code",
   "execution_count": 5,
   "metadata": {},
   "outputs": [],
   "source": [
    "X = scaled_df.drop(['AVGDV'], axis = 1)\n",
    "y = scaled_df['AVGDV']"
   ]
  },
  {
   "cell_type": "markdown",
   "metadata": {},
   "source": [
    "**Recursive Feature Elimination**\n",
    "\n",
    "First, we tried recursive feature elimination. In our case, recursive feature elimination works by recursively selecting smaller and smaller sets of features. The importance of each feature is obtained through the linear regression coefficient attribute (we scaled the features before inputting them in the rfe model). After initially training on the original set of features, the rfe \"prunes\" the least important features and repeats this process until the desired number of features is reached. We set our desired number of features as 7 for ease of interpretation. "
   ]
  },
  {
   "cell_type": "code",
   "execution_count": 6,
   "metadata": {},
   "outputs": [],
   "source": [
    "rfe_df = recursive_feature_elimination(X, y)"
   ]
  },
  {
   "cell_type": "code",
   "execution_count": 7,
   "metadata": {},
   "outputs": [
    {
     "data": {
      "text/html": [
       "<div>\n",
       "<style scoped>\n",
       "    .dataframe tbody tr th:only-of-type {\n",
       "        vertical-align: middle;\n",
       "    }\n",
       "\n",
       "    .dataframe tbody tr th {\n",
       "        vertical-align: top;\n",
       "    }\n",
       "\n",
       "    .dataframe thead th {\n",
       "        text-align: right;\n",
       "    }\n",
       "</style>\n",
       "<table border=\"1\" class=\"dataframe\">\n",
       "  <thead>\n",
       "    <tr style=\"text-align: right;\">\n",
       "      <th></th>\n",
       "      <th>VACANT</th>\n",
       "      <th>SAMEHOUSE</th>\n",
       "      <th>YOUNGPOP</th>\n",
       "      <th>RESSTAB</th>\n",
       "      <th>PUBHOUSPT</th>\n",
       "      <th>PHYSDIS0203</th>\n",
       "      <th>ON_SQMI</th>\n",
       "    </tr>\n",
       "  </thead>\n",
       "  <tbody>\n",
       "    <tr>\n",
       "      <td>VACANT</td>\n",
       "      <td>True</td>\n",
       "      <td>False</td>\n",
       "      <td>False</td>\n",
       "      <td>False</td>\n",
       "      <td>False</td>\n",
       "      <td>False</td>\n",
       "      <td>False</td>\n",
       "    </tr>\n",
       "    <tr>\n",
       "      <td>SAMEHOUSE</td>\n",
       "      <td>False</td>\n",
       "      <td>True</td>\n",
       "      <td>False</td>\n",
       "      <td>True</td>\n",
       "      <td>False</td>\n",
       "      <td>False</td>\n",
       "      <td>False</td>\n",
       "    </tr>\n",
       "    <tr>\n",
       "      <td>YOUNGPOP</td>\n",
       "      <td>False</td>\n",
       "      <td>False</td>\n",
       "      <td>True</td>\n",
       "      <td>False</td>\n",
       "      <td>False</td>\n",
       "      <td>False</td>\n",
       "      <td>False</td>\n",
       "    </tr>\n",
       "    <tr>\n",
       "      <td>RESSTAB</td>\n",
       "      <td>False</td>\n",
       "      <td>True</td>\n",
       "      <td>False</td>\n",
       "      <td>True</td>\n",
       "      <td>False</td>\n",
       "      <td>False</td>\n",
       "      <td>False</td>\n",
       "    </tr>\n",
       "    <tr>\n",
       "      <td>PUBHOUSPT</td>\n",
       "      <td>False</td>\n",
       "      <td>False</td>\n",
       "      <td>False</td>\n",
       "      <td>False</td>\n",
       "      <td>True</td>\n",
       "      <td>False</td>\n",
       "      <td>False</td>\n",
       "    </tr>\n",
       "    <tr>\n",
       "      <td>PHYSDIS0203</td>\n",
       "      <td>False</td>\n",
       "      <td>False</td>\n",
       "      <td>False</td>\n",
       "      <td>False</td>\n",
       "      <td>False</td>\n",
       "      <td>True</td>\n",
       "      <td>False</td>\n",
       "    </tr>\n",
       "    <tr>\n",
       "      <td>ON_SQMI</td>\n",
       "      <td>False</td>\n",
       "      <td>False</td>\n",
       "      <td>False</td>\n",
       "      <td>False</td>\n",
       "      <td>False</td>\n",
       "      <td>False</td>\n",
       "      <td>True</td>\n",
       "    </tr>\n",
       "  </tbody>\n",
       "</table>\n",
       "</div>"
      ],
      "text/plain": [
       "             VACANT  SAMEHOUSE  YOUNGPOP  RESSTAB  PUBHOUSPT  PHYSDIS0203  \\\n",
       "VACANT         True      False     False    False      False        False   \n",
       "SAMEHOUSE     False       True     False     True      False        False   \n",
       "YOUNGPOP      False      False      True    False      False        False   \n",
       "RESSTAB       False       True     False     True      False        False   \n",
       "PUBHOUSPT     False      False     False    False       True        False   \n",
       "PHYSDIS0203   False      False     False    False      False         True   \n",
       "ON_SQMI       False      False     False    False      False        False   \n",
       "\n",
       "             ON_SQMI  \n",
       "VACANT         False  \n",
       "SAMEHOUSE      False  \n",
       "YOUNGPOP       False  \n",
       "RESSTAB        False  \n",
       "PUBHOUSPT      False  \n",
       "PHYSDIS0203    False  \n",
       "ON_SQMI         True  "
      ]
     },
     "execution_count": 7,
     "metadata": {},
     "output_type": "execute_result"
    }
   ],
   "source": [
    "rfe_df.corr()> 0.7"
   ]
  },
  {
   "cell_type": "markdown",
   "metadata": {},
   "source": [
    "**Lasso Regression**"
   ]
  },
  {
   "cell_type": "markdown",
   "metadata": {},
   "source": [
    "After standardizing our features, we select a subset of features using Lasso Regression (an embedded method). We tried this approach because we are interested in the importance of the features, and there is a high degree of multicollinearity within our features given the size of our dataset. "
   ]
  },
  {
   "cell_type": "code",
   "execution_count": 8,
   "metadata": {},
   "outputs": [],
   "source": [
    "X_lasso = cleaned_df.drop('AVGDV', axis = 1)\n",
    "y_lasso = cleaned_df['AVGDV']\n",
    "lasso_df = run_lasso(cleaned_df, X_lasso, y_lasso)"
   ]
  },
  {
   "cell_type": "code",
   "execution_count": 9,
   "metadata": {},
   "outputs": [
    {
     "data": {
      "text/html": [
       "<div>\n",
       "<style scoped>\n",
       "    .dataframe tbody tr th:only-of-type {\n",
       "        vertical-align: middle;\n",
       "    }\n",
       "\n",
       "    .dataframe tbody tr th {\n",
       "        vertical-align: top;\n",
       "    }\n",
       "\n",
       "    .dataframe thead th {\n",
       "        text-align: right;\n",
       "    }\n",
       "</style>\n",
       "<table border=\"1\" class=\"dataframe\">\n",
       "  <thead>\n",
       "    <tr style=\"text-align: right;\">\n",
       "      <th></th>\n",
       "      <th>VACANT</th>\n",
       "      <th>YOUNGPOP</th>\n",
       "      <th>CONCDIS</th>\n",
       "      <th>METRO_BG</th>\n",
       "      <th>PUBHOUSPT</th>\n",
       "      <th>PHYSDIS0203</th>\n",
       "    </tr>\n",
       "  </thead>\n",
       "  <tbody>\n",
       "    <tr>\n",
       "      <td>VACANT</td>\n",
       "      <td>True</td>\n",
       "      <td>False</td>\n",
       "      <td>False</td>\n",
       "      <td>False</td>\n",
       "      <td>False</td>\n",
       "      <td>False</td>\n",
       "    </tr>\n",
       "    <tr>\n",
       "      <td>YOUNGPOP</td>\n",
       "      <td>False</td>\n",
       "      <td>True</td>\n",
       "      <td>True</td>\n",
       "      <td>False</td>\n",
       "      <td>False</td>\n",
       "      <td>False</td>\n",
       "    </tr>\n",
       "    <tr>\n",
       "      <td>CONCDIS</td>\n",
       "      <td>False</td>\n",
       "      <td>True</td>\n",
       "      <td>True</td>\n",
       "      <td>False</td>\n",
       "      <td>False</td>\n",
       "      <td>False</td>\n",
       "    </tr>\n",
       "    <tr>\n",
       "      <td>METRO_BG</td>\n",
       "      <td>False</td>\n",
       "      <td>False</td>\n",
       "      <td>False</td>\n",
       "      <td>True</td>\n",
       "      <td>False</td>\n",
       "      <td>False</td>\n",
       "    </tr>\n",
       "    <tr>\n",
       "      <td>PUBHOUSPT</td>\n",
       "      <td>False</td>\n",
       "      <td>False</td>\n",
       "      <td>False</td>\n",
       "      <td>False</td>\n",
       "      <td>True</td>\n",
       "      <td>False</td>\n",
       "    </tr>\n",
       "    <tr>\n",
       "      <td>PHYSDIS0203</td>\n",
       "      <td>False</td>\n",
       "      <td>False</td>\n",
       "      <td>False</td>\n",
       "      <td>False</td>\n",
       "      <td>False</td>\n",
       "      <td>True</td>\n",
       "    </tr>\n",
       "  </tbody>\n",
       "</table>\n",
       "</div>"
      ],
      "text/plain": [
       "             VACANT  YOUNGPOP  CONCDIS  METRO_BG  PUBHOUSPT  PHYSDIS0203\n",
       "VACANT         True     False    False     False      False        False\n",
       "YOUNGPOP      False      True     True     False      False        False\n",
       "CONCDIS       False      True     True     False      False        False\n",
       "METRO_BG      False     False    False      True      False        False\n",
       "PUBHOUSPT     False     False    False     False       True        False\n",
       "PHYSDIS0203   False     False    False     False      False         True"
      ]
     },
     "execution_count": 9,
     "metadata": {},
     "output_type": "execute_result"
    }
   ],
   "source": [
    "lasso_df.corr() > 0.7"
   ]
  },
  {
   "cell_type": "markdown",
   "metadata": {},
   "source": [
    "We therefore further removed variables due to multicollinearity. "
   ]
  },
  {
   "cell_type": "markdown",
   "metadata": {},
   "source": [
    "**Forward Selection**\n",
    "\n",
    "In this method, we started with all variables in the model, and selected a subset of variables with the lowest p-values. We then added these variables to our model one by one, until we reached a limit where one became insignificant. "
   ]
  },
  {
   "cell_type": "code",
   "execution_count": 10,
   "metadata": {},
   "outputs": [],
   "source": [
    "forward_df = forward_selection(scaled_df)"
   ]
  },
  {
   "cell_type": "markdown",
   "metadata": {},
   "source": [
    "The correlation matrix shows that there are no variables with a correlation coefficient above 0.7."
   ]
  },
  {
   "cell_type": "code",
   "execution_count": 12,
   "metadata": {},
   "outputs": [
    {
     "data": {
      "text/html": [
       "<div>\n",
       "<style scoped>\n",
       "    .dataframe tbody tr th:only-of-type {\n",
       "        vertical-align: middle;\n",
       "    }\n",
       "\n",
       "    .dataframe tbody tr th {\n",
       "        vertical-align: top;\n",
       "    }\n",
       "\n",
       "    .dataframe thead th {\n",
       "        text-align: right;\n",
       "    }\n",
       "</style>\n",
       "<table border=\"1\" class=\"dataframe\">\n",
       "  <thead>\n",
       "    <tr style=\"text-align: right;\">\n",
       "      <th></th>\n",
       "      <th>POV</th>\n",
       "      <th>AA_POP</th>\n",
       "      <th>UNEMPL</th>\n",
       "      <th>FEMALE</th>\n",
       "    </tr>\n",
       "  </thead>\n",
       "  <tbody>\n",
       "    <tr>\n",
       "      <td>POV</td>\n",
       "      <td>True</td>\n",
       "      <td>False</td>\n",
       "      <td>False</td>\n",
       "      <td>False</td>\n",
       "    </tr>\n",
       "    <tr>\n",
       "      <td>AA_POP</td>\n",
       "      <td>False</td>\n",
       "      <td>True</td>\n",
       "      <td>False</td>\n",
       "      <td>False</td>\n",
       "    </tr>\n",
       "    <tr>\n",
       "      <td>UNEMPL</td>\n",
       "      <td>False</td>\n",
       "      <td>False</td>\n",
       "      <td>True</td>\n",
       "      <td>False</td>\n",
       "    </tr>\n",
       "    <tr>\n",
       "      <td>FEMALE</td>\n",
       "      <td>False</td>\n",
       "      <td>False</td>\n",
       "      <td>False</td>\n",
       "      <td>True</td>\n",
       "    </tr>\n",
       "  </tbody>\n",
       "</table>\n",
       "</div>"
      ],
      "text/plain": [
       "          POV  AA_POP  UNEMPL  FEMALE\n",
       "POV      True   False   False   False\n",
       "AA_POP  False    True   False   False\n",
       "UNEMPL  False   False    True   False\n",
       "FEMALE  False   False   False    True"
      ]
     },
     "execution_count": 12,
     "metadata": {},
     "output_type": "execute_result"
    }
   ],
   "source": [
    "forward_df.corr() > 0.7"
   ]
  },
  {
   "cell_type": "markdown",
   "metadata": {},
   "source": [
    "<a id='reg'><a/>\n",
    "### Multiple Linear Regression"
   ]
  },
  {
   "cell_type": "markdown",
   "metadata": {},
   "source": [
    "We employ multiple linear regression with average incidents of domestic violence over 2005 to 2006 as our dependent variable. Multiple linear regression models make the following assumptions:\n",
    " - a linear relationship between the predictor variables and the dependent variable\n",
    " - the residuals are normally distributed\n",
    " - independent variables are not highly correlated with each other\n",
    " - homoscedasticity of the variance of error terms when plotted against independent variables"
   ]
  },
  {
   "cell_type": "markdown",
   "metadata": {},
   "source": [
    "We run three different models using the three outputs of our feature selection methods. "
   ]
  },
  {
   "cell_type": "markdown",
   "metadata": {},
   "source": [
    "We compared the models using the Adjusted R squared metric, which is adjusted for the number of variables in the model. Our findings are summarized below:\n"
   ]
  },
  {
   "cell_type": "code",
   "execution_count": 13,
   "metadata": {},
   "outputs": [
    {
     "name": "stdout",
     "output_type": "stream",
     "text": [
      "                                 OLS Regression Results                                \n",
      "=======================================================================================\n",
      "Dep. Variable:                      y   R-squared (uncentered):                   0.553\n",
      "Model:                            OLS   Adj. R-squared (uncentered):              0.547\n",
      "Method:                 Least Squares   F-statistic:                              86.27\n",
      "Date:                Wed, 04 Dec 2019   Prob (F-statistic):                    5.03e-70\n",
      "Time:                        16:31:22   Log-Likelihood:                         -430.82\n",
      "No. Observations:                 424   AIC:                                      873.6\n",
      "Df Residuals:                     418   BIC:                                      897.9\n",
      "Df Model:                           6                                                  \n",
      "Covariance Type:            nonrobust                                                  \n",
      "===============================================================================\n",
      "                  coef    std err          t      P>|t|      [0.025      0.975]\n",
      "-------------------------------------------------------------------------------\n",
      "VACANT          0.0034      0.001      6.104      0.000       0.002       0.004\n",
      "YOUNGPOP       -0.0230      0.003     -7.006      0.000      -0.029      -0.017\n",
      "CONCDIS         0.7820      0.047     16.798      0.000       0.691       0.874\n",
      "METRO_BG        0.1071      0.103      1.041      0.299      -0.095       0.309\n",
      "PUBHOUSPT       0.0042      0.001      4.265      0.000       0.002       0.006\n",
      "PHYSDIS0203     0.0018      0.000      4.647      0.000       0.001       0.003\n",
      "==============================================================================\n",
      "Omnibus:                      181.394   Durbin-Watson:                   1.720\n",
      "Prob(Omnibus):                  0.000   Jarque-Bera (JB):             1668.870\n",
      "Skew:                           1.578   Prob(JB):                         0.00\n",
      "Kurtosis:                      12.193   Cond. No.                         658.\n",
      "==============================================================================\n",
      "\n",
      "Warnings:\n",
      "[1] Standard Errors assume that the covariance matrix of the errors is correctly specified.\n"
     ]
    }
   ],
   "source": [
    "run_model(lasso_df, np.array(y).reshape(-1, 1))"
   ]
  },
  {
   "cell_type": "code",
   "execution_count": 14,
   "metadata": {},
   "outputs": [
    {
     "name": "stdout",
     "output_type": "stream",
     "text": [
      "                                 OLS Regression Results                                \n",
      "=======================================================================================\n",
      "Dep. Variable:                  AVGDV   R-squared (uncentered):                   0.647\n",
      "Model:                            OLS   Adj. R-squared (uncentered):              0.641\n",
      "Method:                 Least Squares   F-statistic:                              109.0\n",
      "Date:                Wed, 04 Dec 2019   Prob (F-statistic):                    4.10e-90\n",
      "Time:                        16:31:24   Log-Likelihood:                         -381.08\n",
      "No. Observations:                 424   AIC:                                      776.2\n",
      "Df Residuals:                     417   BIC:                                      804.5\n",
      "Df Model:                           7                                                  \n",
      "Covariance Type:            nonrobust                                                  \n",
      "===============================================================================\n",
      "                  coef    std err          t      P>|t|      [0.025      0.975]\n",
      "-------------------------------------------------------------------------------\n",
      "VACANT          0.2162      0.036      6.056      0.000       0.146       0.286\n",
      "SAMEHOUSE       0.2795      0.080      3.497      0.001       0.122       0.437\n",
      "YOUNGPOP        0.2772      0.046      6.092      0.000       0.188       0.367\n",
      "RESSTAB        -0.5074      0.076     -6.639      0.000      -0.658      -0.357\n",
      "PUBHOUSPT       0.1538      0.032      4.863      0.000       0.092       0.216\n",
      "PHYSDIS0203     0.3053      0.038      8.044      0.000       0.231       0.380\n",
      "ON_SQMI        -0.0436      0.033     -1.330      0.184      -0.108       0.021\n",
      "==============================================================================\n",
      "Omnibus:                      174.786   Durbin-Watson:                   1.816\n",
      "Prob(Omnibus):                  0.000   Jarque-Bera (JB):             1763.207\n",
      "Skew:                           1.473   Prob(JB):                         0.00\n",
      "Kurtosis:                      12.546   Cond. No.                         6.21\n",
      "==============================================================================\n",
      "\n",
      "Warnings:\n",
      "[1] Standard Errors assume that the covariance matrix of the errors is correctly specified.\n"
     ]
    }
   ],
   "source": [
    "run_model(rfe_df, y)"
   ]
  },
  {
   "cell_type": "code",
   "execution_count": 15,
   "metadata": {},
   "outputs": [
    {
     "name": "stdout",
     "output_type": "stream",
     "text": [
      "                                 OLS Regression Results                                \n",
      "=======================================================================================\n",
      "Dep. Variable:                  AVGDV   R-squared (uncentered):                   0.318\n",
      "Model:                            OLS   Adj. R-squared (uncentered):              0.312\n",
      "Method:                 Least Squares   F-statistic:                              49.04\n",
      "Date:                Wed, 04 Dec 2019   Prob (F-statistic):                    7.57e-34\n",
      "Time:                        16:31:26   Log-Likelihood:                         -520.38\n",
      "No. Observations:                 424   AIC:                                      1049.\n",
      "Df Residuals:                     420   BIC:                                      1065.\n",
      "Df Model:                           4                                                  \n",
      "Covariance Type:            nonrobust                                                  \n",
      "==============================================================================\n",
      "                 coef    std err          t      P>|t|      [0.025      0.975]\n",
      "------------------------------------------------------------------------------\n",
      "POV            0.5202      0.051     10.172      0.000       0.420       0.621\n",
      "AA_POP         0.0301      0.042      0.710      0.478      -0.053       0.113\n",
      "UNEMPL         0.0148      0.052      0.286      0.775      -0.087       0.116\n",
      "FEMALE         0.1318      0.043      3.037      0.003       0.047       0.217\n",
      "==============================================================================\n",
      "Omnibus:                      191.647   Durbin-Watson:                   1.566\n",
      "Prob(Omnibus):                  0.000   Jarque-Bera (JB):             1403.738\n",
      "Skew:                           1.779   Prob(JB):                    1.52e-305\n",
      "Kurtosis:                      11.173   Cond. No.                         2.15\n",
      "==============================================================================\n",
      "\n",
      "Warnings:\n",
      "[1] Standard Errors assume that the covariance matrix of the errors is correctly specified.\n"
     ]
    }
   ],
   "source": [
    "run_model(forward_df, y)"
   ]
  },
  {
   "cell_type": "markdown",
   "metadata": {},
   "source": [
    "#### Plotting Residuals"
   ]
  },
  {
   "cell_type": "code",
   "execution_count": null,
   "metadata": {},
   "outputs": [],
   "source": []
  },
  {
   "cell_type": "code",
   "execution_count": null,
   "metadata": {},
   "outputs": [],
   "source": []
  },
  {
   "cell_type": "markdown",
   "metadata": {},
   "source": [
    "### Findings and Analysis"
   ]
  },
  {
   "cell_type": "code",
   "execution_count": null,
   "metadata": {},
   "outputs": [],
   "source": []
  }
 ],
 "metadata": {
  "kernelspec": {
   "display_name": "base",
   "language": "python",
   "name": "base"
  },
  "language_info": {
   "codemirror_mode": {
    "name": "ipython",
    "version": 3
   },
   "file_extension": ".py",
   "mimetype": "text/x-python",
   "name": "python",
   "nbconvert_exporter": "python",
   "pygments_lexer": "ipython3",
   "version": "3.7.4"
  }
 },
 "nbformat": 4,
 "nbformat_minor": 4
}
