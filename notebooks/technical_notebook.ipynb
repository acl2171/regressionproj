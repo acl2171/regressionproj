{
 "cells": [
  {
   "cell_type": "markdown",
   "metadata": {},
   "source": [
    "## Domestic Violence and Alcohol Availability"
   ]
  },
  {
   "cell_type": "markdown",
   "metadata": {},
   "source": [
    "Contributors: Seoho Hahm, Allison Lee"
   ]
  },
  {
   "cell_type": "markdown",
   "metadata": {},
   "source": [
    "### Table of Contents\n",
    "1. <a href='#prob'>Problem Statement\n",
    "2. <a href='#sources'>Data Sources</a>\n",
    "3. <a href='#approach'>Approach</a>\n",
    "4. <a href='#eda'>Exploratory Data Analysis</a>\n",
    "5. <a href='#reg'>Regression</a>\n",
    "6. <a href='#analysis'>Findings and Analysis</a>\n",
    "7. <a href='#concl'>Conclusions and Recommendations</a>"
   ]
  },
  {
   "cell_type": "code",
   "execution_count": 7,
   "metadata": {},
   "outputs": [],
   "source": [
    "# import libraries\n",
    "import pandas as pd\n",
    "import numpy as np\n",
    "from sklearn.linear_model import LinearRegression\n",
    "import statsmodels.api as sm\n",
    "import seaborn as sns\n",
    "from sklearn.linear_model import Lasso, LogisticRegression\n",
    "from sklearn.feature_selection import SelectFromModel\n",
    "from sklearn.preprocessing import StandardScaler"
   ]
  },
  {
   "cell_type": "markdown",
   "metadata": {},
   "source": [
    "<a id='prob'></a>\n",
    "### Problem Statement"
   ]
  },
  {
   "cell_type": "markdown",
   "metadata": {},
   "source": [
    "This analysis seeks to understand which factors are most efficient in predicting domestic violence in cities such as Washington, D.C. \n",
    "\n",
    "Specifically, we look at the strength and contribution of different variables to incidents of domestic violence in Washington, D.C., and the potential interactions between variables. "
   ]
  },
  {
   "cell_type": "markdown",
   "metadata": {},
   "source": [
    "<a id='sources'></a>\n",
    "### Data Sources"
   ]
  },
  {
   "cell_type": "markdown",
   "metadata": {},
   "source": [
    "We use a dataset of 101 features and 431 observations from a study conducted by Caterina Goman from the Urban Institute, \"Alcohol Availability, Type of Alcohol Establishment, Distribution Policies, and Their Relationship to Crime and Disorder in the District of Columbia, 2000-2006\". Each observation represents a block in Washington, D.C. \n",
    "\n",
    "The original dataset is available here: https://www.icpsr.umich.edu/icpsrweb/NACJD/studies/25763/summary"
   ]
  },
  {
   "cell_type": "markdown",
   "metadata": {},
   "source": [
    "<a id='approach'></a>\n",
    "### Approach"
   ]
  },
  {
   "cell_type": "markdown",
   "metadata": {},
   "source": [
    "We take a more statistical approach to this analysis to understand which factors are most efficient at predicting incidents of domestic violence in Washington, D.C. All of our features are continuous. \n",
    "\n",
    "After standardizing our features, we select a subset of features using Lasso Regression (an embedded method). We selected this approach because we are interested in the importance of the features, and there is a high degree of multicollinearity within our features given the size of our dataset. \n",
    "\n",
    "\n",
    " - Optional - we tested several threshold values and compared the models against each other using model metrics. \n",
    "\n",
    "We use Cook's D to understand \n",
    "# Cook's D\n",
    "# F-statistic\n",
    "# check distribution of residuals"
   ]
  },
  {
   "cell_type": "markdown",
   "metadata": {},
   "source": [
    "<a id='eda'></a>\n",
    "### Exploratory Data Analysis"
   ]
  },
  {
   "cell_type": "markdown",
   "metadata": {},
   "source": []
  },
  {
   "cell_type": "markdown",
   "metadata": {},
   "source": [
    "<a id='reg'><a/>\n",
    "### Regression"
   ]
  },
  {
   "cell_type": "markdown",
   "metadata": {},
   "source": [
    "We employ multiple linear regression with average incidents of domestic violence over 2005 to 2006 as our dependent variable. Multiple linear regression models make the following assumptions:\n",
    " - a linear relationship between the predictor variables and the dependent variable\n",
    " - the residuals are normally distributed\n",
    " - independent variables are not highly correlated with each other\n",
    " - homoscedasticity of the variance of error terms when plotted against independent variables\n",
    "\n",
    "\n",
    "Feature Selection\n",
    "\n",
    "As a first step, we removed the features that are directly correlated with our dependent variable (for example, domestic violence incidents on the weekend). We use backward selection to identify a subset of feature variables that are relevant to our dependent variable (refer to notebook: AL_notes). Then, we refit the model as we removed features with high p-values. \n",
    "\n",
    "Multicollinearity\n",
    "\n",
    "After we had a subset of features with \n",
    "\n",
    "\n",
    "Question - standard scaling?\n",
    "\n",
    "VIF / Multicollinearity\n",
    "\n",
    "\n",
    "Cook's D\n",
    "\n",
    "F-Statistic\n",
    "\n",
    "The F-statistic tests the null hypothesis that at least one of the regression coefficients are zero. In other words, the F-stat will take a value close to 1 if there is no relationship between domestic violence and the predictors. "
   ]
  },
  {
   "cell_type": "markdown",
   "metadata": {},
   "source": [
    "## Next steps\n",
    " - Clean outliers\n",
    " - Clear on variables \n",
    " - Add features\n",
    " - Run a couple of models\n",
    " - Look at features and coefficients \n",
    " - Focus on features - which ones are more dominant, how are they interacting. understand importance of features, effects of domestic violence. which are most efficient in predicting dv.\n",
    " - Ratio BG / population\n",
    " - already have some sort of bias if you only chose 6 features. \n",
    " - run a huge model, compare models, look at coefficients p values and f scores. \n",
    " - rsq not super important, but p value, f scores. \n",
    "  - is there a significant different --> statistical realm. Anova test. \n",
    "  - but also use linear regression model\n",
    "  - read paper"
   ]
  },
  {
   "cell_type": "markdown",
   "metadata": {},
   "source": [
    "<a id='approach'></a>\n",
    "### Approach"
   ]
  },
  {
   "cell_type": "code",
   "execution_count": null,
   "metadata": {},
   "outputs": [],
   "source": []
  },
  {
   "cell_type": "code",
   "execution_count": null,
   "metadata": {},
   "outputs": [],
   "source": []
  }
 ],
 "metadata": {
  "kernelspec": {
   "display_name": "base",
   "language": "python",
   "name": "base"
  },
  "language_info": {
   "codemirror_mode": {
    "name": "ipython",
    "version": 3
   },
   "file_extension": ".py",
   "mimetype": "text/x-python",
   "name": "python",
   "nbconvert_exporter": "python",
   "pygments_lexer": "ipython3",
   "version": "3.7.4"
  }
 },
 "nbformat": 4,
 "nbformat_minor": 4
}
