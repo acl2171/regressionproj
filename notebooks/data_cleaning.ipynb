{
 "cells": [
  {
   "cell_type": "markdown",
   "metadata": {},
   "source": [
    "### Data Cleaning"
   ]
  },
  {
   "cell_type": "code",
   "execution_count": 1,
   "metadata": {},
   "outputs": [],
   "source": [
    "import pandas as pd"
   ]
  },
  {
   "cell_type": "code",
   "execution_count": 2,
   "metadata": {},
   "outputs": [],
   "source": [
    "df = pd.read_csv('../data/data.tsv', sep = '\\t')"
   ]
  },
  {
   "cell_type": "code",
   "execution_count": 3,
   "metadata": {},
   "outputs": [],
   "source": [
    "df = df.loc[:, ['TRACT', 'POP2000', 'POP2004','POV', 'MALE', 'FEMALE', 'STORE_BG', 'NIGHT_BG', 'TAVERN_BG', 'REST_BG', 'DVWEEKEND', 'DVENDNIGHT', 'DVWEEKNIGHT', 'UNEMPL', 'DV05', 'DV06']]"
   ]
  },
  {
   "cell_type": "code",
   "execution_count": 4,
   "metadata": {},
   "outputs": [],
   "source": [
    "df['DV'] = df['DV05'] + df['DV06']"
   ]
  },
  {
   "cell_type": "code",
   "execution_count": 5,
   "metadata": {},
   "outputs": [],
   "source": [
    "df['TOTAL_BG'] = df['STORE_BG'] + df['NIGHT_BG'] + df['TAVERN_BG'] + df['REST_BG']"
   ]
  },
  {
   "cell_type": "code",
   "execution_count": 6,
   "metadata": {},
   "outputs": [],
   "source": [
    "df['AVG_POP'] = (df['POP2000'] + df['POP2004'])/2"
   ]
  },
  {
   "cell_type": "code",
   "execution_count": 7,
   "metadata": {},
   "outputs": [],
   "source": [
    "df.drop(['STORE_BG', 'NIGHT_BG', 'TAVERN_BG', 'REST_BG', 'DV05', 'DV06', 'POP2000', 'POP2004'], axis = 1, inplace = True)"
   ]
  },
  {
   "cell_type": "code",
   "execution_count": 8,
   "metadata": {},
   "outputs": [
    {
     "name": "stdout",
     "output_type": "stream",
     "text": [
      "<class 'pandas.core.frame.DataFrame'>\n",
      "RangeIndex: 431 entries, 0 to 430\n",
      "Data columns (total 11 columns):\n",
      "TRACT          431 non-null int64\n",
      "POV            431 non-null float64\n",
      "MALE           431 non-null float64\n",
      "FEMALE         431 non-null float64\n",
      "DVWEEKEND      431 non-null int64\n",
      "DVENDNIGHT     431 non-null int64\n",
      "DVWEEKNIGHT    431 non-null int64\n",
      "UNEMPL         431 non-null float64\n",
      "DV             431 non-null int64\n",
      "TOTAL_BG       431 non-null int64\n",
      "AVG_POP        431 non-null float64\n",
      "dtypes: float64(5), int64(6)\n",
      "memory usage: 37.2 KB\n"
     ]
    }
   ],
   "source": [
    "df.info()"
   ]
  },
  {
   "cell_type": "code",
   "execution_count": null,
   "metadata": {},
   "outputs": [],
   "source": []
  }
 ],
 "metadata": {
  "kernelspec": {
   "display_name": "base",
   "language": "python",
   "name": "base"
  },
  "language_info": {
   "codemirror_mode": {
    "name": "ipython",
    "version": 3
   },
   "file_extension": ".py",
   "mimetype": "text/x-python",
   "name": "python",
   "nbconvert_exporter": "python",
   "pygments_lexer": "ipython3",
   "version": "3.7.4"
  }
 },
 "nbformat": 4,
 "nbformat_minor": 4
}
