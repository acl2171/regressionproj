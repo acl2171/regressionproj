{
 "cells": [
  {
   "cell_type": "markdown",
   "metadata": {},
   "source": [
    "### Web-Scraping 'Movies Based on Books' from Netflix"
   ]
  },
  {
   "cell_type": "code",
   "execution_count": 106,
   "metadata": {},
   "outputs": [],
   "source": [
    "# import libraries\n",
    "from bs4 import BeautifulSoup\n",
    "import pandas as pd\n",
    "import itertools\n",
    "import numpy as np\n",
    "%run ../pyfiles/data_scraping"
   ]
  },
  {
   "cell_type": "code",
   "execution_count": 112,
   "metadata": {},
   "outputs": [],
   "source": [
    "# define arguments\n",
    "title_genre = {'general': '../data/mov_books.html', 'classic': '../data/classic_books.html', 'fantasy': '../data/fantasy_books.html', 'magical': '../data/magical_books.html', 'oscar':'../data/oscar_books.html', 'psychological': '../data/psych_books.html', 'romance':'../data/romantic_books.html', 'supernatural':'../data/super_books.html', 'family':'../data/family_books.html', 'tv_shows':'../data/tv_books.html'}\n",
    "genres = ['general', 'classic', 'fantasy', 'magical', 'oscar', 'psychological', 'romance', 'supernatural', 'family', 'tv_shows']"
   ]
  },
  {
   "cell_type": "code",
   "execution_count": 114,
   "metadata": {},
   "outputs": [
    {
     "data": {
      "text/html": [
       "<div>\n",
       "<style scoped>\n",
       "    .dataframe tbody tr th:only-of-type {\n",
       "        vertical-align: middle;\n",
       "    }\n",
       "\n",
       "    .dataframe tbody tr th {\n",
       "        vertical-align: top;\n",
       "    }\n",
       "\n",
       "    .dataframe thead th {\n",
       "        text-align: right;\n",
       "    }\n",
       "</style>\n",
       "<table border=\"1\" class=\"dataframe\">\n",
       "  <thead>\n",
       "    <tr style=\"text-align: right;\">\n",
       "      <th></th>\n",
       "      <th>genre</th>\n",
       "      <th>movie</th>\n",
       "    </tr>\n",
       "  </thead>\n",
       "  <tbody>\n",
       "    <tr>\n",
       "      <td>0</td>\n",
       "      <td>general</td>\n",
       "      <td>'The Lion Woman'</td>\n",
       "    </tr>\n",
       "    <tr>\n",
       "      <td>1</td>\n",
       "      <td>general</td>\n",
       "      <td>'Carrie Pilby'</td>\n",
       "    </tr>\n",
       "    <tr>\n",
       "      <td>2</td>\n",
       "      <td>general</td>\n",
       "      <td>'Same Kind of Different as Me'</td>\n",
       "    </tr>\n",
       "    <tr>\n",
       "      <td>3</td>\n",
       "      <td>general</td>\n",
       "      <td>'The Physician'</td>\n",
       "    </tr>\n",
       "    <tr>\n",
       "      <td>4</td>\n",
       "      <td>general</td>\n",
       "      <td>'The Boy in the Striped Pajamas'</td>\n",
       "    </tr>\n",
       "  </tbody>\n",
       "</table>\n",
       "</div>"
      ],
      "text/plain": [
       "     genre                             movie\n",
       "0  general                  'The Lion Woman'\n",
       "1  general                    'Carrie Pilby'\n",
       "2  general    'Same Kind of Different as Me'\n",
       "3  general                   'The Physician'\n",
       "4  general  'The Boy in the Striped Pajamas'"
      ]
     },
     "execution_count": 114,
     "metadata": {},
     "output_type": "execute_result"
    }
   ],
   "source": [
    "# run functions to scrape and make output into a dataframe\n",
    "df_netflix = get_titles_genres_from_netflix(title_genre, genres)\n",
    "df = make_netflix_dataframe(df_netflix)\n",
    "df.head()"
   ]
  },
  {
   "cell_type": "code",
   "execution_count": 116,
   "metadata": {},
   "outputs": [],
   "source": [
    "# export as csv\n",
    "df.to_csv('../data/netflix_data.csv')"
   ]
  }
 ],
 "metadata": {
  "kernelspec": {
   "display_name": "base",
   "language": "python",
   "name": "base"
  },
  "language_info": {
   "codemirror_mode": {
    "name": "ipython",
    "version": 3
   },
   "file_extension": ".py",
   "mimetype": "text/x-python",
   "name": "python",
   "nbconvert_exporter": "python",
   "pygments_lexer": "ipython3",
   "version": "3.7.4"
  }
 },
 "nbformat": 4,
 "nbformat_minor": 4
}
