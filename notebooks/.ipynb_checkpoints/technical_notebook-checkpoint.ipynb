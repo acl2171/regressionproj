{
 "cells": [
  {
   "cell_type": "markdown",
   "metadata": {},
   "source": [
    "## Predictors of Domestic Violence in Washington, D.C."
   ]
  },
  {
   "cell_type": "markdown",
   "metadata": {},
   "source": [
    "Contributors: Seoho Hahm, Allison Lee"
   ]
  },
  {
   "cell_type": "markdown",
   "metadata": {},
   "source": [
    "### Table of Contents\n",
    "1. <a href='#prob'>Problem Statement\n",
    "2. <a href='#sources'>Data Sources</a>\n",
    "3. <a href='#approach'>Approach</a>\n",
    "4. <a href='#eda'>Exploratory Data Analysis</a>\n",
    "5. <a href='#feature'>Feature Selection</a>\n",
    "6. <a href='#reg'>Regression</a>\n",
    "7. <a href='#analysis'>Findings and Analysis</a>\n",
    "8. <a href='#concl'>Conclusions and Recommendations</a>"
   ]
  },
  {
   "cell_type": "code",
   "execution_count": 382,
   "metadata": {},
   "outputs": [],
   "source": [
    "# import libraries\n",
    "import pandas as pd\n",
    "import numpy as np\n",
    "from sklearn.linear_model import LinearRegression\n",
    "import statsmodels.api as sm\n",
    "import seaborn as sns\n",
    "from sklearn.linear_model import Lasso, LogisticRegression\n",
    "from sklearn.preprocessing import StandardScaler\n",
    "from sklearn.metrics import mean_squared_error, r2_score\n",
    "from sklearn.feature_selection import RFE\n",
    "import sklearn\n",
    "import statsmodels.stats.outliers_influence as smd\n",
    "%run ../pyfiles/data_cleaning\n",
    "%run ../pyfiles/regression"
   ]
  },
  {
   "cell_type": "markdown",
   "metadata": {},
   "source": [
    "<a id='prob'></a>\n",
    "### Problem Statement"
   ]
  },
  {
   "cell_type": "markdown",
   "metadata": {},
   "source": [
    "This analysis seeks to understand which factors are most efficient in predicting domestic violence in cities such as Washington, D.C. \n",
    "\n",
    "Specifically, we look at the strength and contribution of different variables to incidents of domestic violence in Washington, D.C., and the potential interactions between variables. "
   ]
  },
  {
   "cell_type": "markdown",
   "metadata": {},
   "source": [
    "<a id='sources'></a>\n",
    "### Data Sources"
   ]
  },
  {
   "cell_type": "markdown",
   "metadata": {},
   "source": [
    "We use a dataset of 101 features and 431 observations from a study conducted by Caterina Goman from the Urban Institute, \"Alcohol Availability, Type of Alcohol Establishment, Distribution Policies, and Their Relationship to Crime and Disorder in the District of Columbia, 2000-2006\". Each observation represents a block in Washington, D.C. \n",
    "\n",
    "The original dataset is available here: https://www.icpsr.umich.edu/icpsrweb/NACJD/studies/25763/summary"
   ]
  },
  {
   "cell_type": "markdown",
   "metadata": {},
   "source": [
    "<a id='approach'></a>\n",
    "### Approach"
   ]
  },
  {
   "cell_type": "markdown",
   "metadata": {},
   "source": [
    "We take a more statistical approach to this analysis to understand which factors are most efficient at predicting incidents of domestic violence in Washington, D.C. All of our features are continuous. \n",
    "\n",
    "We used Cook's D to assess leverage and outliers in our variables. \n",
    "\n",
    "We used three different methods for feature selection--recursive feature elimination, domain knowledge / forward selection, and Lasso regression. We ran models on the resulting features and compared model metrics. We selected our final model based on adjusted R squared metric. \n",
    "\n",
    "We then checked the residual plots to ensure they met our assumptions of normal distribution and homoscedasticity. \n",
    "\n",
    "Finally, we present our main findings and recommendations. "
   ]
  },
  {
   "cell_type": "markdown",
   "metadata": {},
   "source": [
    "<a id='eda'></a>\n",
    "### Exploratory Data Analysis"
   ]
  },
  {
   "cell_type": "code",
   "execution_count": 383,
   "metadata": {},
   "outputs": [],
   "source": [
    "df_orig = pd.read_csv('../data/data.tsv', sep = '\\t')\n",
    "df = clean_orig_dataset(df_orig)\n",
    "X = df.drop('AVGDV', axis = 1)\n",
    "y = df['AVGDV']"
   ]
  },
  {
   "cell_type": "markdown",
   "metadata": {},
   "source": [
    "There appears to be a high degree of interactions between our variables, which is something to keep in mind throughout our analysis. For example, these scatterplots illustrate how race interacts with poverty in D.C. "
   ]
  },
  {
   "cell_type": "markdown",
   "metadata": {},
   "source": [
    "<a id='feature'></a>\n",
    "### Feature Selection"
   ]
  },
  {
   "cell_type": "markdown",
   "metadata": {},
   "source": [
    "As a first step, we removed the features that are directly correlated with our dependent variable (for example, domestic violence incidents on the weekend). We tried three methods of feature selection to come up with a subset of features on which to run a model. "
   ]
  },
  {
   "cell_type": "markdown",
   "metadata": {},
   "source": [
    "We then used Cook's D to identify variables that have outliers with high influence over our regression results. We eliminated those outliers from our dataset (i.e. dropped the blocks with outlier data). "
   ]
  },
  {
   "cell_type": "code",
   "execution_count": 384,
   "metadata": {},
   "outputs": [],
   "source": [
    "cooksddf = cooksd(df, list(df.columns))\n",
    "cleaned_df = dropping_outliers(list(df.columns), df, cooksddf)"
   ]
  },
  {
   "cell_type": "code",
   "execution_count": 385,
   "metadata": {},
   "outputs": [],
   "source": [
    "# Scale features\n",
    "scaled_df = scale_dataset(cleaned_df)"
   ]
  },
  {
   "cell_type": "code",
   "execution_count": 386,
   "metadata": {},
   "outputs": [],
   "source": [
    "X = scaled_df.drop(['AVGDV'], axis = 1)\n",
    "y = scaled_df['AVGDV']"
   ]
  },
  {
   "cell_type": "markdown",
   "metadata": {},
   "source": [
    "**Recursive Feature Elimination**\n",
    "\n",
    "First, we tried recursive feature elimination. In our case, recursive feature elimination works by recursively selecting smaller and smaller sets of features. The importance of each feature is obtained through the linear regression coefficient attribute (we scaled the features before inputting them in the rfe model). After initially training on the original set of features, the rfe \"prunes\" the least important features and repeats this process until the desired number of features is reached. We set our desired number of features as 7 for ease of interpretation. "
   ]
  },
  {
   "cell_type": "code",
   "execution_count": 387,
   "metadata": {},
   "outputs": [
    {
     "data": {
      "text/html": [
       "<div>\n",
       "<style scoped>\n",
       "    .dataframe tbody tr th:only-of-type {\n",
       "        vertical-align: middle;\n",
       "    }\n",
       "\n",
       "    .dataframe tbody tr th {\n",
       "        vertical-align: top;\n",
       "    }\n",
       "\n",
       "    .dataframe thead th {\n",
       "        text-align: right;\n",
       "    }\n",
       "</style>\n",
       "<table border=\"1\" class=\"dataframe\">\n",
       "  <thead>\n",
       "    <tr style=\"text-align: right;\">\n",
       "      <th></th>\n",
       "      <th>VACANT</th>\n",
       "      <th>SAMEHOUSE</th>\n",
       "      <th>YOUNGPOP</th>\n",
       "      <th>RESSTAB</th>\n",
       "      <th>PUBHOUSPT</th>\n",
       "      <th>PHYSDIS0203</th>\n",
       "      <th>ON_SQMI</th>\n",
       "    </tr>\n",
       "  </thead>\n",
       "  <tbody>\n",
       "    <tr>\n",
       "      <td>0</td>\n",
       "      <td>-0.033439</td>\n",
       "      <td>0.011864</td>\n",
       "      <td>-0.111383</td>\n",
       "      <td>-0.195090</td>\n",
       "      <td>-0.182802</td>\n",
       "      <td>-0.250426</td>\n",
       "      <td>-0.351701</td>\n",
       "    </tr>\n",
       "    <tr>\n",
       "      <td>1</td>\n",
       "      <td>-0.001685</td>\n",
       "      <td>-0.527070</td>\n",
       "      <td>-1.392122</td>\n",
       "      <td>-0.300838</td>\n",
       "      <td>-0.182802</td>\n",
       "      <td>-1.048205</td>\n",
       "      <td>-0.166552</td>\n",
       "    </tr>\n",
       "    <tr>\n",
       "      <td>2</td>\n",
       "      <td>0.871544</td>\n",
       "      <td>-1.344184</td>\n",
       "      <td>-1.734189</td>\n",
       "      <td>-1.146821</td>\n",
       "      <td>-0.182802</td>\n",
       "      <td>-0.934237</td>\n",
       "      <td>2.425525</td>\n",
       "    </tr>\n",
       "    <tr>\n",
       "      <td>3</td>\n",
       "      <td>0.474622</td>\n",
       "      <td>-1.727537</td>\n",
       "      <td>-1.925344</td>\n",
       "      <td>-1.757809</td>\n",
       "      <td>-0.182802</td>\n",
       "      <td>-0.535347</td>\n",
       "      <td>5.303740</td>\n",
       "    </tr>\n",
       "    <tr>\n",
       "      <td>4</td>\n",
       "      <td>-0.446238</td>\n",
       "      <td>-0.045390</td>\n",
       "      <td>0.901739</td>\n",
       "      <td>-0.747329</td>\n",
       "      <td>-0.182802</td>\n",
       "      <td>-0.848760</td>\n",
       "      <td>-0.351701</td>\n",
       "    </tr>\n",
       "    <tr>\n",
       "      <td>...</td>\n",
       "      <td>...</td>\n",
       "      <td>...</td>\n",
       "      <td>...</td>\n",
       "      <td>...</td>\n",
       "      <td>...</td>\n",
       "      <td>...</td>\n",
       "      <td>...</td>\n",
       "    </tr>\n",
       "    <tr>\n",
       "      <td>419</td>\n",
       "      <td>-0.414484</td>\n",
       "      <td>-0.023609</td>\n",
       "      <td>1.688493</td>\n",
       "      <td>-0.947075</td>\n",
       "      <td>-0.182802</td>\n",
       "      <td>-1.304634</td>\n",
       "      <td>-0.351701</td>\n",
       "    </tr>\n",
       "    <tr>\n",
       "      <td>420</td>\n",
       "      <td>1.093821</td>\n",
       "      <td>-0.783469</td>\n",
       "      <td>2.108028</td>\n",
       "      <td>-1.158571</td>\n",
       "      <td>-0.182802</td>\n",
       "      <td>-0.307410</td>\n",
       "      <td>-0.351701</td>\n",
       "    </tr>\n",
       "    <tr>\n",
       "      <td>421</td>\n",
       "      <td>1.903542</td>\n",
       "      <td>0.435045</td>\n",
       "      <td>1.413834</td>\n",
       "      <td>-0.042343</td>\n",
       "      <td>-0.182802</td>\n",
       "      <td>2.066933</td>\n",
       "      <td>-0.351701</td>\n",
       "    </tr>\n",
       "    <tr>\n",
       "      <td>422</td>\n",
       "      <td>-0.747899</td>\n",
       "      <td>-2.748151</td>\n",
       "      <td>-1.578247</td>\n",
       "      <td>-2.333547</td>\n",
       "      <td>-0.182802</td>\n",
       "      <td>-1.304634</td>\n",
       "      <td>-0.351701</td>\n",
       "    </tr>\n",
       "    <tr>\n",
       "      <td>423</td>\n",
       "      <td>-0.795530</td>\n",
       "      <td>1.532206</td>\n",
       "      <td>0.242757</td>\n",
       "      <td>1.649622</td>\n",
       "      <td>-0.182802</td>\n",
       "      <td>0.024998</td>\n",
       "      <td>-0.351701</td>\n",
       "    </tr>\n",
       "  </tbody>\n",
       "</table>\n",
       "<p>424 rows × 7 columns</p>\n",
       "</div>"
      ],
      "text/plain": [
       "       VACANT  SAMEHOUSE  YOUNGPOP   RESSTAB  PUBHOUSPT  PHYSDIS0203   ON_SQMI\n",
       "0   -0.033439   0.011864 -0.111383 -0.195090  -0.182802    -0.250426 -0.351701\n",
       "1   -0.001685  -0.527070 -1.392122 -0.300838  -0.182802    -1.048205 -0.166552\n",
       "2    0.871544  -1.344184 -1.734189 -1.146821  -0.182802    -0.934237  2.425525\n",
       "3    0.474622  -1.727537 -1.925344 -1.757809  -0.182802    -0.535347  5.303740\n",
       "4   -0.446238  -0.045390  0.901739 -0.747329  -0.182802    -0.848760 -0.351701\n",
       "..        ...        ...       ...       ...        ...          ...       ...\n",
       "419 -0.414484  -0.023609  1.688493 -0.947075  -0.182802    -1.304634 -0.351701\n",
       "420  1.093821  -0.783469  2.108028 -1.158571  -0.182802    -0.307410 -0.351701\n",
       "421  1.903542   0.435045  1.413834 -0.042343  -0.182802     2.066933 -0.351701\n",
       "422 -0.747899  -2.748151 -1.578247 -2.333547  -0.182802    -1.304634 -0.351701\n",
       "423 -0.795530   1.532206  0.242757  1.649622  -0.182802     0.024998 -0.351701\n",
       "\n",
       "[424 rows x 7 columns]"
      ]
     },
     "execution_count": 387,
     "metadata": {},
     "output_type": "execute_result"
    }
   ],
   "source": [
    "rfe_df = recursive_feature_elimination(X, y)\n",
    "rfe_df"
   ]
  },
  {
   "cell_type": "code",
   "execution_count": 388,
   "metadata": {},
   "outputs": [
    {
     "data": {
      "text/html": [
       "<div>\n",
       "<style scoped>\n",
       "    .dataframe tbody tr th:only-of-type {\n",
       "        vertical-align: middle;\n",
       "    }\n",
       "\n",
       "    .dataframe tbody tr th {\n",
       "        vertical-align: top;\n",
       "    }\n",
       "\n",
       "    .dataframe thead th {\n",
       "        text-align: right;\n",
       "    }\n",
       "</style>\n",
       "<table border=\"1\" class=\"dataframe\">\n",
       "  <thead>\n",
       "    <tr style=\"text-align: right;\">\n",
       "      <th></th>\n",
       "      <th>VACANT</th>\n",
       "      <th>SAMEHOUSE</th>\n",
       "      <th>YOUNGPOP</th>\n",
       "      <th>RESSTAB</th>\n",
       "      <th>PUBHOUSPT</th>\n",
       "      <th>PHYSDIS0203</th>\n",
       "      <th>ON_SQMI</th>\n",
       "    </tr>\n",
       "  </thead>\n",
       "  <tbody>\n",
       "    <tr>\n",
       "      <td>VACANT</td>\n",
       "      <td>True</td>\n",
       "      <td>False</td>\n",
       "      <td>False</td>\n",
       "      <td>False</td>\n",
       "      <td>False</td>\n",
       "      <td>False</td>\n",
       "      <td>False</td>\n",
       "    </tr>\n",
       "    <tr>\n",
       "      <td>SAMEHOUSE</td>\n",
       "      <td>False</td>\n",
       "      <td>True</td>\n",
       "      <td>False</td>\n",
       "      <td>True</td>\n",
       "      <td>False</td>\n",
       "      <td>False</td>\n",
       "      <td>False</td>\n",
       "    </tr>\n",
       "    <tr>\n",
       "      <td>YOUNGPOP</td>\n",
       "      <td>False</td>\n",
       "      <td>False</td>\n",
       "      <td>True</td>\n",
       "      <td>False</td>\n",
       "      <td>False</td>\n",
       "      <td>False</td>\n",
       "      <td>False</td>\n",
       "    </tr>\n",
       "    <tr>\n",
       "      <td>RESSTAB</td>\n",
       "      <td>False</td>\n",
       "      <td>True</td>\n",
       "      <td>False</td>\n",
       "      <td>True</td>\n",
       "      <td>False</td>\n",
       "      <td>False</td>\n",
       "      <td>False</td>\n",
       "    </tr>\n",
       "    <tr>\n",
       "      <td>PUBHOUSPT</td>\n",
       "      <td>False</td>\n",
       "      <td>False</td>\n",
       "      <td>False</td>\n",
       "      <td>False</td>\n",
       "      <td>True</td>\n",
       "      <td>False</td>\n",
       "      <td>False</td>\n",
       "    </tr>\n",
       "    <tr>\n",
       "      <td>PHYSDIS0203</td>\n",
       "      <td>False</td>\n",
       "      <td>False</td>\n",
       "      <td>False</td>\n",
       "      <td>False</td>\n",
       "      <td>False</td>\n",
       "      <td>True</td>\n",
       "      <td>False</td>\n",
       "    </tr>\n",
       "    <tr>\n",
       "      <td>ON_SQMI</td>\n",
       "      <td>False</td>\n",
       "      <td>False</td>\n",
       "      <td>False</td>\n",
       "      <td>False</td>\n",
       "      <td>False</td>\n",
       "      <td>False</td>\n",
       "      <td>True</td>\n",
       "    </tr>\n",
       "  </tbody>\n",
       "</table>\n",
       "</div>"
      ],
      "text/plain": [
       "             VACANT  SAMEHOUSE  YOUNGPOP  RESSTAB  PUBHOUSPT  PHYSDIS0203  \\\n",
       "VACANT         True      False     False    False      False        False   \n",
       "SAMEHOUSE     False       True     False     True      False        False   \n",
       "YOUNGPOP      False      False      True    False      False        False   \n",
       "RESSTAB       False       True     False     True      False        False   \n",
       "PUBHOUSPT     False      False     False    False       True        False   \n",
       "PHYSDIS0203   False      False     False    False      False         True   \n",
       "ON_SQMI       False      False     False    False      False        False   \n",
       "\n",
       "             ON_SQMI  \n",
       "VACANT         False  \n",
       "SAMEHOUSE      False  \n",
       "YOUNGPOP       False  \n",
       "RESSTAB        False  \n",
       "PUBHOUSPT      False  \n",
       "PHYSDIS0203    False  \n",
       "ON_SQMI         True  "
      ]
     },
     "execution_count": 388,
     "metadata": {},
     "output_type": "execute_result"
    }
   ],
   "source": [
    "rfe_df.corr()> 0.7"
   ]
  },
  {
   "cell_type": "markdown",
   "metadata": {},
   "source": [
    "**Lasso Regression**"
   ]
  },
  {
   "cell_type": "markdown",
   "metadata": {},
   "source": [
    "After standardizing our features, we select a subset of features using Lasso Regression (an embedded method). We tried this approach because we are interested in the importance of the features, and there is a high degree of multicollinearity within our features given the size of our dataset. "
   ]
  },
  {
   "cell_type": "code",
   "execution_count": 389,
   "metadata": {},
   "outputs": [],
   "source": [
    "X_lasso = cleaned_df.drop('AVGDV', axis = 1)\n",
    "y_lasso = cleaned_df['AVGDV']\n",
    "lasso_df = run_lasso(cleaned_df, X_lasso, y_lasso)"
   ]
  },
  {
   "cell_type": "code",
   "execution_count": 390,
   "metadata": {},
   "outputs": [
    {
     "data": {
      "text/html": [
       "<div>\n",
       "<style scoped>\n",
       "    .dataframe tbody tr th:only-of-type {\n",
       "        vertical-align: middle;\n",
       "    }\n",
       "\n",
       "    .dataframe tbody tr th {\n",
       "        vertical-align: top;\n",
       "    }\n",
       "\n",
       "    .dataframe thead th {\n",
       "        text-align: right;\n",
       "    }\n",
       "</style>\n",
       "<table border=\"1\" class=\"dataframe\">\n",
       "  <thead>\n",
       "    <tr style=\"text-align: right;\">\n",
       "      <th></th>\n",
       "      <th>VACANT</th>\n",
       "      <th>YOUNGPOP</th>\n",
       "      <th>CONCDIS</th>\n",
       "      <th>METRO_BG</th>\n",
       "      <th>PUBHOUSPT</th>\n",
       "      <th>PHYSDIS0203</th>\n",
       "    </tr>\n",
       "  </thead>\n",
       "  <tbody>\n",
       "    <tr>\n",
       "      <td>0</td>\n",
       "      <td>60</td>\n",
       "      <td>18.92</td>\n",
       "      <td>0.38</td>\n",
       "      <td>0</td>\n",
       "      <td>0</td>\n",
       "      <td>139</td>\n",
       "    </tr>\n",
       "    <tr>\n",
       "      <td>1</td>\n",
       "      <td>62</td>\n",
       "      <td>6.19</td>\n",
       "      <td>-0.97</td>\n",
       "      <td>0</td>\n",
       "      <td>0</td>\n",
       "      <td>55</td>\n",
       "    </tr>\n",
       "    <tr>\n",
       "      <td>2</td>\n",
       "      <td>117</td>\n",
       "      <td>2.79</td>\n",
       "      <td>-0.97</td>\n",
       "      <td>0</td>\n",
       "      <td>0</td>\n",
       "      <td>67</td>\n",
       "    </tr>\n",
       "    <tr>\n",
       "      <td>3</td>\n",
       "      <td>92</td>\n",
       "      <td>0.89</td>\n",
       "      <td>-0.91</td>\n",
       "      <td>0</td>\n",
       "      <td>0</td>\n",
       "      <td>109</td>\n",
       "    </tr>\n",
       "    <tr>\n",
       "      <td>4</td>\n",
       "      <td>34</td>\n",
       "      <td>28.99</td>\n",
       "      <td>0.32</td>\n",
       "      <td>0</td>\n",
       "      <td>0</td>\n",
       "      <td>76</td>\n",
       "    </tr>\n",
       "    <tr>\n",
       "      <td>...</td>\n",
       "      <td>...</td>\n",
       "      <td>...</td>\n",
       "      <td>...</td>\n",
       "      <td>...</td>\n",
       "      <td>...</td>\n",
       "      <td>...</td>\n",
       "    </tr>\n",
       "    <tr>\n",
       "      <td>426</td>\n",
       "      <td>36</td>\n",
       "      <td>36.81</td>\n",
       "      <td>0.35</td>\n",
       "      <td>0</td>\n",
       "      <td>0</td>\n",
       "      <td>28</td>\n",
       "    </tr>\n",
       "    <tr>\n",
       "      <td>427</td>\n",
       "      <td>131</td>\n",
       "      <td>40.98</td>\n",
       "      <td>2.05</td>\n",
       "      <td>0</td>\n",
       "      <td>0</td>\n",
       "      <td>133</td>\n",
       "    </tr>\n",
       "    <tr>\n",
       "      <td>428</td>\n",
       "      <td>182</td>\n",
       "      <td>34.08</td>\n",
       "      <td>0.68</td>\n",
       "      <td>0</td>\n",
       "      <td>0</td>\n",
       "      <td>383</td>\n",
       "    </tr>\n",
       "    <tr>\n",
       "      <td>429</td>\n",
       "      <td>15</td>\n",
       "      <td>4.34</td>\n",
       "      <td>-0.51</td>\n",
       "      <td>1</td>\n",
       "      <td>0</td>\n",
       "      <td>28</td>\n",
       "    </tr>\n",
       "    <tr>\n",
       "      <td>430</td>\n",
       "      <td>12</td>\n",
       "      <td>22.44</td>\n",
       "      <td>-0.18</td>\n",
       "      <td>0</td>\n",
       "      <td>0</td>\n",
       "      <td>168</td>\n",
       "    </tr>\n",
       "  </tbody>\n",
       "</table>\n",
       "<p>424 rows × 6 columns</p>\n",
       "</div>"
      ],
      "text/plain": [
       "     VACANT  YOUNGPOP  CONCDIS  METRO_BG  PUBHOUSPT  PHYSDIS0203\n",
       "0        60     18.92     0.38         0          0          139\n",
       "1        62      6.19    -0.97         0          0           55\n",
       "2       117      2.79    -0.97         0          0           67\n",
       "3        92      0.89    -0.91         0          0          109\n",
       "4        34     28.99     0.32         0          0           76\n",
       "..      ...       ...      ...       ...        ...          ...\n",
       "426      36     36.81     0.35         0          0           28\n",
       "427     131     40.98     2.05         0          0          133\n",
       "428     182     34.08     0.68         0          0          383\n",
       "429      15      4.34    -0.51         1          0           28\n",
       "430      12     22.44    -0.18         0          0          168\n",
       "\n",
       "[424 rows x 6 columns]"
      ]
     },
     "execution_count": 390,
     "metadata": {},
     "output_type": "execute_result"
    }
   ],
   "source": [
    "lasso_df"
   ]
  },
  {
   "cell_type": "code",
   "execution_count": 391,
   "metadata": {},
   "outputs": [
    {
     "data": {
      "text/html": [
       "<div>\n",
       "<style scoped>\n",
       "    .dataframe tbody tr th:only-of-type {\n",
       "        vertical-align: middle;\n",
       "    }\n",
       "\n",
       "    .dataframe tbody tr th {\n",
       "        vertical-align: top;\n",
       "    }\n",
       "\n",
       "    .dataframe thead th {\n",
       "        text-align: right;\n",
       "    }\n",
       "</style>\n",
       "<table border=\"1\" class=\"dataframe\">\n",
       "  <thead>\n",
       "    <tr style=\"text-align: right;\">\n",
       "      <th></th>\n",
       "      <th>VACANT</th>\n",
       "      <th>YOUNGPOP</th>\n",
       "      <th>CONCDIS</th>\n",
       "      <th>METRO_BG</th>\n",
       "      <th>PUBHOUSPT</th>\n",
       "      <th>PHYSDIS0203</th>\n",
       "    </tr>\n",
       "  </thead>\n",
       "  <tbody>\n",
       "    <tr>\n",
       "      <td>VACANT</td>\n",
       "      <td>True</td>\n",
       "      <td>False</td>\n",
       "      <td>False</td>\n",
       "      <td>False</td>\n",
       "      <td>False</td>\n",
       "      <td>False</td>\n",
       "    </tr>\n",
       "    <tr>\n",
       "      <td>YOUNGPOP</td>\n",
       "      <td>False</td>\n",
       "      <td>True</td>\n",
       "      <td>True</td>\n",
       "      <td>False</td>\n",
       "      <td>False</td>\n",
       "      <td>False</td>\n",
       "    </tr>\n",
       "    <tr>\n",
       "      <td>CONCDIS</td>\n",
       "      <td>False</td>\n",
       "      <td>True</td>\n",
       "      <td>True</td>\n",
       "      <td>False</td>\n",
       "      <td>False</td>\n",
       "      <td>False</td>\n",
       "    </tr>\n",
       "    <tr>\n",
       "      <td>METRO_BG</td>\n",
       "      <td>False</td>\n",
       "      <td>False</td>\n",
       "      <td>False</td>\n",
       "      <td>True</td>\n",
       "      <td>False</td>\n",
       "      <td>False</td>\n",
       "    </tr>\n",
       "    <tr>\n",
       "      <td>PUBHOUSPT</td>\n",
       "      <td>False</td>\n",
       "      <td>False</td>\n",
       "      <td>False</td>\n",
       "      <td>False</td>\n",
       "      <td>True</td>\n",
       "      <td>False</td>\n",
       "    </tr>\n",
       "    <tr>\n",
       "      <td>PHYSDIS0203</td>\n",
       "      <td>False</td>\n",
       "      <td>False</td>\n",
       "      <td>False</td>\n",
       "      <td>False</td>\n",
       "      <td>False</td>\n",
       "      <td>True</td>\n",
       "    </tr>\n",
       "  </tbody>\n",
       "</table>\n",
       "</div>"
      ],
      "text/plain": [
       "             VACANT  YOUNGPOP  CONCDIS  METRO_BG  PUBHOUSPT  PHYSDIS0203\n",
       "VACANT         True     False    False     False      False        False\n",
       "YOUNGPOP      False      True     True     False      False        False\n",
       "CONCDIS       False      True     True     False      False        False\n",
       "METRO_BG      False     False    False      True      False        False\n",
       "PUBHOUSPT     False     False    False     False       True        False\n",
       "PHYSDIS0203   False     False    False     False      False         True"
      ]
     },
     "execution_count": 391,
     "metadata": {},
     "output_type": "execute_result"
    }
   ],
   "source": [
    "lasso_df.corr() > 0.7"
   ]
  },
  {
   "cell_type": "markdown",
   "metadata": {},
   "source": [
    "We therefore further removed variables due to multicollinearity. "
   ]
  },
  {
   "cell_type": "markdown",
   "metadata": {},
   "source": [
    "**Forward Selection**\n",
    "\n",
    "In this method, we started with all variables in the model, and selected a subset of variables with the lowest p-values. We then added these variables to our model one by one, until we reached a limit where one became insignificant. "
   ]
  },
  {
   "cell_type": "code",
   "execution_count": 392,
   "metadata": {},
   "outputs": [
    {
     "data": {
      "text/html": [
       "<div>\n",
       "<style scoped>\n",
       "    .dataframe tbody tr th:only-of-type {\n",
       "        vertical-align: middle;\n",
       "    }\n",
       "\n",
       "    .dataframe tbody tr th {\n",
       "        vertical-align: top;\n",
       "    }\n",
       "\n",
       "    .dataframe thead th {\n",
       "        text-align: right;\n",
       "    }\n",
       "</style>\n",
       "<table border=\"1\" class=\"dataframe\">\n",
       "  <thead>\n",
       "    <tr style=\"text-align: right;\">\n",
       "      <th></th>\n",
       "      <th>POV</th>\n",
       "      <th>AA_POP</th>\n",
       "      <th>UNEMPL</th>\n",
       "      <th>FEMALE</th>\n",
       "    </tr>\n",
       "  </thead>\n",
       "  <tbody>\n",
       "    <tr>\n",
       "      <td>0</td>\n",
       "      <td>1.022728</td>\n",
       "      <td>0.081237</td>\n",
       "      <td>-0.064911</td>\n",
       "      <td>-2.388464</td>\n",
       "    </tr>\n",
       "    <tr>\n",
       "      <td>1</td>\n",
       "      <td>-0.834808</td>\n",
       "      <td>-0.066985</td>\n",
       "      <td>-0.787580</td>\n",
       "      <td>-0.205504</td>\n",
       "    </tr>\n",
       "    <tr>\n",
       "      <td>2</td>\n",
       "      <td>-0.581413</td>\n",
       "      <td>0.323418</td>\n",
       "      <td>-0.893725</td>\n",
       "      <td>-0.343946</td>\n",
       "    </tr>\n",
       "    <tr>\n",
       "      <td>3</td>\n",
       "      <td>-0.288926</td>\n",
       "      <td>2.502726</td>\n",
       "      <td>-0.770774</td>\n",
       "      <td>0.101474</td>\n",
       "    </tr>\n",
       "    <tr>\n",
       "      <td>4</td>\n",
       "      <td>0.640191</td>\n",
       "      <td>-0.299527</td>\n",
       "      <td>0.836434</td>\n",
       "      <td>-1.220741</td>\n",
       "    </tr>\n",
       "    <tr>\n",
       "      <td>...</td>\n",
       "      <td>...</td>\n",
       "      <td>...</td>\n",
       "      <td>...</td>\n",
       "      <td>...</td>\n",
       "    </tr>\n",
       "    <tr>\n",
       "      <td>419</td>\n",
       "      <td>-1.065168</td>\n",
       "      <td>-0.299527</td>\n",
       "      <td>0.645374</td>\n",
       "      <td>1.072571</td>\n",
       "    </tr>\n",
       "    <tr>\n",
       "      <td>420</td>\n",
       "      <td>2.853039</td>\n",
       "      <td>-0.299527</td>\n",
       "      <td>1.606868</td>\n",
       "      <td>-0.105184</td>\n",
       "    </tr>\n",
       "    <tr>\n",
       "      <td>421</td>\n",
       "      <td>0.530596</td>\n",
       "      <td>-0.254057</td>\n",
       "      <td>0.211949</td>\n",
       "      <td>0.498741</td>\n",
       "    </tr>\n",
       "    <tr>\n",
       "      <td>422</td>\n",
       "      <td>-0.660293</td>\n",
       "      <td>-0.299527</td>\n",
       "      <td>-0.992793</td>\n",
       "      <td>-7.775640</td>\n",
       "    </tr>\n",
       "    <tr>\n",
       "      <td>423</td>\n",
       "      <td>-0.518587</td>\n",
       "      <td>-0.299527</td>\n",
       "      <td>0.040349</td>\n",
       "      <td>-0.309837</td>\n",
       "    </tr>\n",
       "  </tbody>\n",
       "</table>\n",
       "<p>424 rows × 4 columns</p>\n",
       "</div>"
      ],
      "text/plain": [
       "          POV    AA_POP    UNEMPL    FEMALE\n",
       "0    1.022728  0.081237 -0.064911 -2.388464\n",
       "1   -0.834808 -0.066985 -0.787580 -0.205504\n",
       "2   -0.581413  0.323418 -0.893725 -0.343946\n",
       "3   -0.288926  2.502726 -0.770774  0.101474\n",
       "4    0.640191 -0.299527  0.836434 -1.220741\n",
       "..        ...       ...       ...       ...\n",
       "419 -1.065168 -0.299527  0.645374  1.072571\n",
       "420  2.853039 -0.299527  1.606868 -0.105184\n",
       "421  0.530596 -0.254057  0.211949  0.498741\n",
       "422 -0.660293 -0.299527 -0.992793 -7.775640\n",
       "423 -0.518587 -0.299527  0.040349 -0.309837\n",
       "\n",
       "[424 rows x 4 columns]"
      ]
     },
     "execution_count": 392,
     "metadata": {},
     "output_type": "execute_result"
    }
   ],
   "source": [
    "forward_df = forward_selection(scaled_df)\n",
    "forward_df"
   ]
  },
  {
   "cell_type": "markdown",
   "metadata": {},
   "source": [
    "The correlation matrix shows that there are no variables with a correlation coefficient above 0.7."
   ]
  },
  {
   "cell_type": "code",
   "execution_count": null,
   "metadata": {},
   "outputs": [],
   "source": [
    "forward_df.corr()"
   ]
  },
  {
   "cell_type": "markdown",
   "metadata": {},
   "source": [
    "<a id='reg'><a/>\n",
    "### Multiple Linear Regression"
   ]
  },
  {
   "cell_type": "markdown",
   "metadata": {},
   "source": [
    "We employ multiple linear regression with average incidents of domestic violence over 2005 to 2006 as our dependent variable. Multiple linear regression models make the following assumptions:\n",
    " - a linear relationship between the predictor variables and the dependent variable\n",
    " - the residuals are normally distributed\n",
    " - independent variables are not highly correlated with each other\n",
    " - homoscedasticity of the variance of error terms when plotted against independent variables"
   ]
  },
  {
   "cell_type": "markdown",
   "metadata": {},
   "source": [
    "We run three different models using the three outputs of our feature selection methods. "
   ]
  },
  {
   "cell_type": "markdown",
   "metadata": {},
   "source": [
    "We compared the models using the Adjusted R squared metric, which is adjusted for the number of variables in the model. Our findings are summarized below:\n"
   ]
  },
  {
   "cell_type": "code",
   "execution_count": 393,
   "metadata": {},
   "outputs": [
    {
     "name": "stdout",
     "output_type": "stream",
     "text": [
      "                                 OLS Regression Results                                \n",
      "=======================================================================================\n",
      "Dep. Variable:                      y   R-squared (uncentered):                   0.553\n",
      "Model:                            OLS   Adj. R-squared (uncentered):              0.547\n",
      "Method:                 Least Squares   F-statistic:                              86.27\n",
      "Date:                Wed, 04 Dec 2019   Prob (F-statistic):                    5.03e-70\n",
      "Time:                        16:12:45   Log-Likelihood:                         -430.82\n",
      "No. Observations:                 424   AIC:                                      873.6\n",
      "Df Residuals:                     418   BIC:                                      897.9\n",
      "Df Model:                           6                                                  \n",
      "Covariance Type:            nonrobust                                                  \n",
      "===============================================================================\n",
      "                  coef    std err          t      P>|t|      [0.025      0.975]\n",
      "-------------------------------------------------------------------------------\n",
      "VACANT          0.0034      0.001      6.104      0.000       0.002       0.004\n",
      "YOUNGPOP       -0.0230      0.003     -7.006      0.000      -0.029      -0.017\n",
      "CONCDIS         0.7820      0.047     16.798      0.000       0.691       0.874\n",
      "METRO_BG        0.1071      0.103      1.041      0.299      -0.095       0.309\n",
      "PUBHOUSPT       0.0042      0.001      4.265      0.000       0.002       0.006\n",
      "PHYSDIS0203     0.0018      0.000      4.647      0.000       0.001       0.003\n",
      "==============================================================================\n",
      "Omnibus:                      181.394   Durbin-Watson:                   1.720\n",
      "Prob(Omnibus):                  0.000   Jarque-Bera (JB):             1668.870\n",
      "Skew:                           1.578   Prob(JB):                         0.00\n",
      "Kurtosis:                      12.193   Cond. No.                         658.\n",
      "==============================================================================\n",
      "\n",
      "Warnings:\n",
      "[1] Standard Errors assume that the covariance matrix of the errors is correctly specified.\n"
     ]
    }
   ],
   "source": [
    "run_model(lasso_df, np.array(y).reshape(-1, 1))"
   ]
  },
  {
   "cell_type": "code",
   "execution_count": 380,
   "metadata": {},
   "outputs": [
    {
     "name": "stdout",
     "output_type": "stream",
     "text": [
      "                                 OLS Regression Results                                \n",
      "=======================================================================================\n",
      "Dep. Variable:                  AVGDV   R-squared (uncentered):                   0.651\n",
      "Model:                            OLS   Adj. R-squared (uncentered):              0.645\n",
      "Method:                 Least Squares   F-statistic:                              111.1\n",
      "Date:                Wed, 04 Dec 2019   Prob (F-statistic):                    3.06e-91\n",
      "Time:                        16:11:37   Log-Likelihood:                         -378.42\n",
      "No. Observations:                 424   AIC:                                      770.8\n",
      "Df Residuals:                     417   BIC:                                      799.2\n",
      "Df Model:                           7                                                  \n",
      "Covariance Type:            nonrobust                                                  \n",
      "===============================================================================\n",
      "                  coef    std err          t      P>|t|      [0.025      0.975]\n",
      "-------------------------------------------------------------------------------\n",
      "VACANT          0.2175      0.035      6.129      0.000       0.148       0.287\n",
      "SAMEHOUSE       0.2080      0.083      2.521      0.012       0.046       0.370\n",
      "YOUNGPOP        0.2059      0.055      3.761      0.000       0.098       0.313\n",
      "CONCDIS         0.1462      0.055      2.655      0.008       0.038       0.255\n",
      "RESSTAB        -0.3896      0.083     -4.667      0.000      -0.554      -0.226\n",
      "PUBHOUSPT       0.1415      0.032      4.460      0.000       0.079       0.204\n",
      "PHYSDIS0203     0.2923      0.038      7.700      0.000       0.218       0.367\n",
      "==============================================================================\n",
      "Omnibus:                      180.191   Durbin-Watson:                   1.823\n",
      "Prob(Omnibus):                  0.000   Jarque-Bera (JB):             2101.618\n",
      "Skew:                           1.482   Prob(JB):                         0.00\n",
      "Kurtosis:                      13.496   Cond. No.                         6.70\n",
      "==============================================================================\n",
      "\n",
      "Warnings:\n",
      "[1] Standard Errors assume that the covariance matrix of the errors is correctly specified.\n"
     ]
    }
   ],
   "source": [
    "run_model(rfe_df, y)"
   ]
  },
  {
   "cell_type": "code",
   "execution_count": 381,
   "metadata": {},
   "outputs": [
    {
     "name": "stdout",
     "output_type": "stream",
     "text": [
      "                                 OLS Regression Results                                \n",
      "=======================================================================================\n",
      "Dep. Variable:                  AVGDV   R-squared (uncentered):                   0.318\n",
      "Model:                            OLS   Adj. R-squared (uncentered):              0.312\n",
      "Method:                 Least Squares   F-statistic:                              49.04\n",
      "Date:                Wed, 04 Dec 2019   Prob (F-statistic):                    7.57e-34\n",
      "Time:                        16:11:40   Log-Likelihood:                         -520.38\n",
      "No. Observations:                 424   AIC:                                      1049.\n",
      "Df Residuals:                     420   BIC:                                      1065.\n",
      "Df Model:                           4                                                  \n",
      "Covariance Type:            nonrobust                                                  \n",
      "==============================================================================\n",
      "                 coef    std err          t      P>|t|      [0.025      0.975]\n",
      "------------------------------------------------------------------------------\n",
      "POV            0.5202      0.051     10.172      0.000       0.420       0.621\n",
      "AA_POP         0.0301      0.042      0.710      0.478      -0.053       0.113\n",
      "UNEMPL         0.0148      0.052      0.286      0.775      -0.087       0.116\n",
      "FEMALE         0.1318      0.043      3.037      0.003       0.047       0.217\n",
      "==============================================================================\n",
      "Omnibus:                      191.647   Durbin-Watson:                   1.566\n",
      "Prob(Omnibus):                  0.000   Jarque-Bera (JB):             1403.738\n",
      "Skew:                           1.779   Prob(JB):                    1.52e-305\n",
      "Kurtosis:                      11.173   Cond. No.                         2.15\n",
      "==============================================================================\n",
      "\n",
      "Warnings:\n",
      "[1] Standard Errors assume that the covariance matrix of the errors is correctly specified.\n"
     ]
    }
   ],
   "source": [
    "run_model(forward_df, y)"
   ]
  },
  {
   "cell_type": "markdown",
   "metadata": {},
   "source": [
    "### Findings and Analysis"
   ]
  },
  {
   "cell_type": "code",
   "execution_count": null,
   "metadata": {},
   "outputs": [],
   "source": []
  }
 ],
 "metadata": {
  "kernelspec": {
   "display_name": "base",
   "language": "python",
   "name": "base"
  },
  "language_info": {
   "codemirror_mode": {
    "name": "ipython",
    "version": 3
   },
   "file_extension": ".py",
   "mimetype": "text/x-python",
   "name": "python",
   "nbconvert_exporter": "python",
   "pygments_lexer": "ipython3",
   "version": "3.7.4"
  }
 },
 "nbformat": 4,
 "nbformat_minor": 4
}
